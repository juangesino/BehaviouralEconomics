{
 "cells": [
  {
   "cell_type": "markdown",
   "metadata": {},
   "source": [
    "# Behavioural Economics Experiment\n",
    "\n",
    "In this notebook, we performed all the statistical analysis and data visualization for the experiment conducted during the course [Behavioural Economics](https://coursecatalogue.uva.nl/xmlpages/page/2018-2019-en/search-course/course/58872) (6012B0265Y) at the [University of Amsterdam](https://www.uva.nl/en/home).\n",
    "\n",
    "\n",
    "## Introduction\n",
    "\n",
    "As part of an assignment for the course we were instructed to perform a behavioural economics experiment for the class (using the rest of the students are subjects).\n",
    "\n",
    "For our experiment, we recreated Nagel's (1995) experiment, but added a treatment group where participants were grouped in groups of three and participated as a single individual competing in a market with 5 other groups of three. At the begining of the each round/stage we asked all the members of a group to log their individual response before discussing with the rest of the group about their final response.\n",
    "\n",
    "\n",
    "## Data\n",
    "\n",
    "The data contains the data for each subject that participated in the experiment\n",
    "\n",
    "\n",
    "\n",
    "\n",
    "**References**\n",
    "\n",
    "Nagel, R. (1995). Unraveling in guessing games: An experimental study. The American Economic Review, 85(5), 1313-1326.\n"
   ]
  },
  {
   "cell_type": "markdown",
   "metadata": {},
   "source": [
    "<div style=\"margin-top: 100px;\"></div>"
   ]
  },
  {
   "cell_type": "markdown",
   "metadata": {},
   "source": [
    "## Python Libraries Imports"
   ]
  },
  {
   "cell_type": "code",
   "execution_count": 1,
   "metadata": {},
   "outputs": [],
   "source": [
    "# Data handling\n",
    "import numpy as np\n",
    "import pandas as pd\n",
    "\n",
    "# Plotting\n",
    "import matplotlib.pyplot as plt\n",
    "import seaborn as sns\n",
    "import matplotlib.style as style\n",
    "\n",
    "# Statistical tests\n",
    "from scipy.stats import wilcoxon\n",
    "from scipy.stats import mannwhitneyu\n",
    "from scipy.stats import ttest_ind\n",
    "from scipy.stats import chi2_contingency\n",
    "from scipy.stats import ttest_1samp\n",
    "from statsmodels.stats.proportion import proportions_ztest\n",
    "\n",
    "# Style globals\n",
    "style.use('seaborn-pastel')\n",
    "colors = [\"#E4CA99\", \"#A1B6B4\", \"#AEDDE0\", \"#A63D11\", \"#E97140\", \"#2D7F9D\", \"#DC7684\", \"#A4C9D7\", \"#EAF2F4\"]\n",
    "\n",
    "# Jupyter configuration\n",
    "%matplotlib inline"
   ]
  },
  {
   "cell_type": "markdown",
   "metadata": {},
   "source": [
    "<div style=\"margin-top: 100px;\"></div>"
   ]
  },
  {
   "cell_type": "markdown",
   "metadata": {},
   "source": [
    "## Import Data\n"
   ]
  },
  {
   "cell_type": "code",
   "execution_count": 2,
   "metadata": {},
   "outputs": [],
   "source": [
    "df = pd.read_csv(\"DataSubjects.csv\")"
   ]
  },
  {
   "cell_type": "code",
   "execution_count": 3,
   "metadata": {},
   "outputs": [
    {
     "data": {
      "text/html": [
       "<div>\n",
       "<style scoped>\n",
       "    .dataframe tbody tr th:only-of-type {\n",
       "        vertical-align: middle;\n",
       "    }\n",
       "\n",
       "    .dataframe tbody tr th {\n",
       "        vertical-align: top;\n",
       "    }\n",
       "\n",
       "    .dataframe thead th {\n",
       "        text-align: right;\n",
       "    }\n",
       "</style>\n",
       "<table border=\"1\" class=\"dataframe\">\n",
       "  <thead>\n",
       "    <tr style=\"text-align: right;\">\n",
       "      <th></th>\n",
       "      <th>ID</th>\n",
       "      <th>Individual Code</th>\n",
       "      <th>Seat</th>\n",
       "      <th>Treatment</th>\n",
       "      <th>Market</th>\n",
       "      <th>Gender</th>\n",
       "      <th>Number of Answers</th>\n",
       "      <th>Answers Missing</th>\n",
       "      <th>Individual Answer Stage 1</th>\n",
       "      <th>Individual Answer Stage 2</th>\n",
       "      <th>...</th>\n",
       "      <th>Time Individual Stage 1</th>\n",
       "      <th>Time Individual Stage 2</th>\n",
       "      <th>Time Individual Stage 3</th>\n",
       "      <th>Time Individual Stage 4</th>\n",
       "      <th>Time Group Stage 1</th>\n",
       "      <th>Time Group Stage 2</th>\n",
       "      <th>Time Group Stage 3</th>\n",
       "      <th>Time Group Stage 4</th>\n",
       "      <th>Experience</th>\n",
       "      <th>Skills</th>\n",
       "    </tr>\n",
       "  </thead>\n",
       "  <tbody>\n",
       "    <tr>\n",
       "      <th>0</th>\n",
       "      <td>1806G</td>\n",
       "      <td>18</td>\n",
       "      <td>6</td>\n",
       "      <td>G</td>\n",
       "      <td>2</td>\n",
       "      <td>Female</td>\n",
       "      <td>4</td>\n",
       "      <td>False</td>\n",
       "      <td>12.07</td>\n",
       "      <td>19.3</td>\n",
       "      <td>...</td>\n",
       "      <td>11/6/2019 16:07:43</td>\n",
       "      <td>11/6/2019 16:22:40</td>\n",
       "      <td>11/6/2019 16:35:10</td>\n",
       "      <td>11/6/2019 16:45:53</td>\n",
       "      <td>11/6/2019 16:07:43</td>\n",
       "      <td>11/6/2019 16:22:40</td>\n",
       "      <td>11/6/2019 16:35:10</td>\n",
       "      <td>11/6/2019 16:45:53</td>\n",
       "      <td>Yes</td>\n",
       "      <td>3.0</td>\n",
       "    </tr>\n",
       "    <tr>\n",
       "      <th>1</th>\n",
       "      <td>1706G</td>\n",
       "      <td>17</td>\n",
       "      <td>6</td>\n",
       "      <td>G</td>\n",
       "      <td>2</td>\n",
       "      <td>Female</td>\n",
       "      <td>4</td>\n",
       "      <td>False</td>\n",
       "      <td>37.50</td>\n",
       "      <td>68.0</td>\n",
       "      <td>...</td>\n",
       "      <td>11/6/2019 16:07:44</td>\n",
       "      <td>11/6/2019 16:22:41</td>\n",
       "      <td>11/6/2019 16:35:10</td>\n",
       "      <td>11/6/2019 16:45:58</td>\n",
       "      <td>11/6/2019 16:07:44</td>\n",
       "      <td>11/6/2019 16:22:41</td>\n",
       "      <td>11/6/2019 16:35:10</td>\n",
       "      <td>11/6/2019 16:45:58</td>\n",
       "      <td>Yes</td>\n",
       "      <td>2.0</td>\n",
       "    </tr>\n",
       "    <tr>\n",
       "      <th>2</th>\n",
       "      <td>1606G</td>\n",
       "      <td>16</td>\n",
       "      <td>6</td>\n",
       "      <td>G</td>\n",
       "      <td>2</td>\n",
       "      <td>Male</td>\n",
       "      <td>4</td>\n",
       "      <td>False</td>\n",
       "      <td>43.00</td>\n",
       "      <td>26.0</td>\n",
       "      <td>...</td>\n",
       "      <td>11/6/2019 16:07:45</td>\n",
       "      <td>11/6/2019 16:22:42</td>\n",
       "      <td>11/6/2019 16:35:10</td>\n",
       "      <td>11/6/2019 16:45:45</td>\n",
       "      <td>11/6/2019 16:07:45</td>\n",
       "      <td>11/6/2019 16:22:42</td>\n",
       "      <td>11/6/2019 16:35:10</td>\n",
       "      <td>11/6/2019 16:45:45</td>\n",
       "      <td>No</td>\n",
       "      <td>3.0</td>\n",
       "    </tr>\n",
       "    <tr>\n",
       "      <th>3</th>\n",
       "      <td>5117G</td>\n",
       "      <td>51</td>\n",
       "      <td>17</td>\n",
       "      <td>G</td>\n",
       "      <td>4</td>\n",
       "      <td>Female</td>\n",
       "      <td>4</td>\n",
       "      <td>False</td>\n",
       "      <td>29.00</td>\n",
       "      <td>16.0</td>\n",
       "      <td>...</td>\n",
       "      <td>11/6/2019 16:08:29</td>\n",
       "      <td>11/6/2019 16:23:35</td>\n",
       "      <td>11/6/2019 16:37:20</td>\n",
       "      <td>11/6/2019 16:45:01</td>\n",
       "      <td>11/6/2019 16:08:29</td>\n",
       "      <td>11/6/2019 16:23:35</td>\n",
       "      <td>11/6/2019 16:37:20</td>\n",
       "      <td>11/6/2019 16:45:01</td>\n",
       "      <td>Yes</td>\n",
       "      <td>2.0</td>\n",
       "    </tr>\n",
       "    <tr>\n",
       "      <th>4</th>\n",
       "      <td>4917G</td>\n",
       "      <td>49</td>\n",
       "      <td>17</td>\n",
       "      <td>G</td>\n",
       "      <td>4</td>\n",
       "      <td>Male</td>\n",
       "      <td>4</td>\n",
       "      <td>False</td>\n",
       "      <td>17.00</td>\n",
       "      <td>3.0</td>\n",
       "      <td>...</td>\n",
       "      <td>11/6/2019 16:08:30</td>\n",
       "      <td>11/6/2019 16:23:34</td>\n",
       "      <td>11/6/2019 16:37:18</td>\n",
       "      <td>11/6/2019 16:44:45</td>\n",
       "      <td>11/6/2019 16:08:30</td>\n",
       "      <td>11/6/2019 16:23:34</td>\n",
       "      <td>11/6/2019 16:37:18</td>\n",
       "      <td>11/6/2019 16:44:45</td>\n",
       "      <td>Yes</td>\n",
       "      <td>4.0</td>\n",
       "    </tr>\n",
       "  </tbody>\n",
       "</table>\n",
       "<p>5 rows × 30 columns</p>\n",
       "</div>"
      ],
      "text/plain": [
       "      ID  Individual Code  Seat Treatment  Market  Gender  Number of Answers  \\\n",
       "0  1806G               18     6         G       2  Female                  4   \n",
       "1  1706G               17     6         G       2  Female                  4   \n",
       "2  1606G               16     6         G       2    Male                  4   \n",
       "3  5117G               51    17         G       4  Female                  4   \n",
       "4  4917G               49    17         G       4    Male                  4   \n",
       "\n",
       "   Answers Missing  Individual Answer Stage 1  Individual Answer Stage 2  ...  \\\n",
       "0            False                      12.07                       19.3  ...   \n",
       "1            False                      37.50                       68.0  ...   \n",
       "2            False                      43.00                       26.0  ...   \n",
       "3            False                      29.00                       16.0  ...   \n",
       "4            False                      17.00                        3.0  ...   \n",
       "\n",
       "   Time Individual Stage 1 Time Individual Stage 2  Time Individual Stage 3  \\\n",
       "0       11/6/2019 16:07:43      11/6/2019 16:22:40       11/6/2019 16:35:10   \n",
       "1       11/6/2019 16:07:44      11/6/2019 16:22:41       11/6/2019 16:35:10   \n",
       "2       11/6/2019 16:07:45      11/6/2019 16:22:42       11/6/2019 16:35:10   \n",
       "3       11/6/2019 16:08:29      11/6/2019 16:23:35       11/6/2019 16:37:20   \n",
       "4       11/6/2019 16:08:30      11/6/2019 16:23:34       11/6/2019 16:37:18   \n",
       "\n",
       "   Time Individual Stage 4  Time Group Stage 1  Time Group Stage 2  \\\n",
       "0       11/6/2019 16:45:53  11/6/2019 16:07:43  11/6/2019 16:22:40   \n",
       "1       11/6/2019 16:45:58  11/6/2019 16:07:44  11/6/2019 16:22:41   \n",
       "2       11/6/2019 16:45:45  11/6/2019 16:07:45  11/6/2019 16:22:42   \n",
       "3       11/6/2019 16:45:01  11/6/2019 16:08:29  11/6/2019 16:23:35   \n",
       "4       11/6/2019 16:44:45  11/6/2019 16:08:30  11/6/2019 16:23:34   \n",
       "\n",
       "   Time Group Stage 3  Time Group Stage 4  Experience Skills  \n",
       "0  11/6/2019 16:35:10  11/6/2019 16:45:53         Yes    3.0  \n",
       "1  11/6/2019 16:35:10  11/6/2019 16:45:58         Yes    2.0  \n",
       "2  11/6/2019 16:35:10  11/6/2019 16:45:45          No    3.0  \n",
       "3  11/6/2019 16:37:20  11/6/2019 16:45:01         Yes    2.0  \n",
       "4  11/6/2019 16:37:18  11/6/2019 16:44:45         Yes    4.0  \n",
       "\n",
       "[5 rows x 30 columns]"
      ]
     },
     "execution_count": 3,
     "metadata": {},
     "output_type": "execute_result"
    }
   ],
   "source": [
    "df.head()"
   ]
  },
  {
   "cell_type": "code",
   "execution_count": 4,
   "metadata": {},
   "outputs": [
    {
     "data": {
      "text/plain": [
       "ID                           80\n",
       "Individual Code              80\n",
       "Seat                         80\n",
       "Treatment                    80\n",
       "Market                       80\n",
       "Gender                       80\n",
       "Number of Answers            80\n",
       "Answers Missing              80\n",
       "Individual Answer Stage 1    80\n",
       "Individual Answer Stage 2    80\n",
       "Individual Answer Stage 3    80\n",
       "Individual Answer Stage 4    80\n",
       "Group Answer Stage 1         60\n",
       "Group Answer Stage 2         60\n",
       "Group Answer Stage 3         60\n",
       "Group Answer Stage 4         60\n",
       "Final Answer Stage 1         80\n",
       "Final Answer Stage 2         80\n",
       "Final Answer Stage 3         80\n",
       "Final Answer Stage 4         80\n",
       "Time Individual Stage 1      80\n",
       "Time Individual Stage 2      80\n",
       "Time Individual Stage 3      80\n",
       "Time Individual Stage 4      80\n",
       "Time Group Stage 1           80\n",
       "Time Group Stage 2           80\n",
       "Time Group Stage 3           80\n",
       "Time Group Stage 4           80\n",
       "Experience                   66\n",
       "Skills                       66\n",
       "dtype: int64"
      ]
     },
     "execution_count": 4,
     "metadata": {},
     "output_type": "execute_result"
    }
   ],
   "source": [
    "df.count()"
   ]
  },
  {
   "cell_type": "code",
   "execution_count": 5,
   "metadata": {},
   "outputs": [
    {
     "data": {
      "text/plain": [
       "ID                            object\n",
       "Individual Code                int64\n",
       "Seat                           int64\n",
       "Treatment                     object\n",
       "Market                         int64\n",
       "Gender                        object\n",
       "Number of Answers              int64\n",
       "Answers Missing                 bool\n",
       "Individual Answer Stage 1    float64\n",
       "Individual Answer Stage 2    float64\n",
       "Individual Answer Stage 3    float64\n",
       "Individual Answer Stage 4     object\n",
       "Group Answer Stage 1         float64\n",
       "Group Answer Stage 2         float64\n",
       "Group Answer Stage 3         float64\n",
       "Group Answer Stage 4          object\n",
       "Final Answer Stage 1         float64\n",
       "Final Answer Stage 2         float64\n",
       "Final Answer Stage 3         float64\n",
       "Final Answer Stage 4          object\n",
       "Time Individual Stage 1       object\n",
       "Time Individual Stage 2       object\n",
       "Time Individual Stage 3       object\n",
       "Time Individual Stage 4       object\n",
       "Time Group Stage 1            object\n",
       "Time Group Stage 2            object\n",
       "Time Group Stage 3            object\n",
       "Time Group Stage 4            object\n",
       "Experience                    object\n",
       "Skills                       float64\n",
       "dtype: object"
      ]
     },
     "execution_count": 5,
     "metadata": {},
     "output_type": "execute_result"
    }
   ],
   "source": [
    "df.dtypes"
   ]
  },
  {
   "cell_type": "code",
   "execution_count": 6,
   "metadata": {},
   "outputs": [
    {
     "data": {
      "text/html": [
       "<div>\n",
       "<style scoped>\n",
       "    .dataframe tbody tr th:only-of-type {\n",
       "        vertical-align: middle;\n",
       "    }\n",
       "\n",
       "    .dataframe tbody tr th {\n",
       "        vertical-align: top;\n",
       "    }\n",
       "\n",
       "    .dataframe thead th {\n",
       "        text-align: right;\n",
       "    }\n",
       "</style>\n",
       "<table border=\"1\" class=\"dataframe\">\n",
       "  <thead>\n",
       "    <tr style=\"text-align: right;\">\n",
       "      <th></th>\n",
       "      <th>Individual Code</th>\n",
       "      <th>Seat</th>\n",
       "      <th>Market</th>\n",
       "      <th>Number of Answers</th>\n",
       "      <th>Individual Answer Stage 1</th>\n",
       "      <th>Individual Answer Stage 2</th>\n",
       "      <th>Individual Answer Stage 3</th>\n",
       "      <th>Group Answer Stage 1</th>\n",
       "      <th>Group Answer Stage 2</th>\n",
       "      <th>Group Answer Stage 3</th>\n",
       "      <th>Final Answer Stage 1</th>\n",
       "      <th>Final Answer Stage 2</th>\n",
       "      <th>Final Answer Stage 3</th>\n",
       "      <th>Skills</th>\n",
       "    </tr>\n",
       "  </thead>\n",
       "  <tbody>\n",
       "    <tr>\n",
       "      <th>count</th>\n",
       "      <td>80.0000</td>\n",
       "      <td>80.000000</td>\n",
       "      <td>80.000000</td>\n",
       "      <td>80.000000</td>\n",
       "      <td>80.000000</td>\n",
       "      <td>80.000000</td>\n",
       "      <td>80.000000</td>\n",
       "      <td>60.000000</td>\n",
       "      <td>60.000000</td>\n",
       "      <td>60.000000</td>\n",
       "      <td>80.000000</td>\n",
       "      <td>80.000000</td>\n",
       "      <td>80.000000</td>\n",
       "      <td>66.000000</td>\n",
       "    </tr>\n",
       "    <tr>\n",
       "      <th>mean</th>\n",
       "      <td>40.5000</td>\n",
       "      <td>10.500000</td>\n",
       "      <td>2.500000</td>\n",
       "      <td>3.825000</td>\n",
       "      <td>36.126765</td>\n",
       "      <td>15.340342</td>\n",
       "      <td>7.669050</td>\n",
       "      <td>24.580000</td>\n",
       "      <td>7.407500</td>\n",
       "      <td>1.069500</td>\n",
       "      <td>28.755788</td>\n",
       "      <td>11.240625</td>\n",
       "      <td>4.539800</td>\n",
       "      <td>2.500000</td>\n",
       "    </tr>\n",
       "    <tr>\n",
       "      <th>std</th>\n",
       "      <td>23.2379</td>\n",
       "      <td>5.802662</td>\n",
       "      <td>1.125088</td>\n",
       "      <td>0.382364</td>\n",
       "      <td>23.635821</td>\n",
       "      <td>17.060620</td>\n",
       "      <td>19.154481</td>\n",
       "      <td>21.226158</td>\n",
       "      <td>8.107879</td>\n",
       "      <td>1.288075</td>\n",
       "      <td>23.001638</td>\n",
       "      <td>12.393299</td>\n",
       "      <td>11.857805</td>\n",
       "      <td>0.808608</td>\n",
       "    </tr>\n",
       "    <tr>\n",
       "      <th>min</th>\n",
       "      <td>1.0000</td>\n",
       "      <td>1.000000</td>\n",
       "      <td>1.000000</td>\n",
       "      <td>3.000000</td>\n",
       "      <td>0.000000</td>\n",
       "      <td>0.000000</td>\n",
       "      <td>0.000000</td>\n",
       "      <td>0.000000</td>\n",
       "      <td>0.000000</td>\n",
       "      <td>0.000000</td>\n",
       "      <td>0.000000</td>\n",
       "      <td>0.000000</td>\n",
       "      <td>0.000000</td>\n",
       "      <td>1.000000</td>\n",
       "    </tr>\n",
       "    <tr>\n",
       "      <th>25%</th>\n",
       "      <td>20.7500</td>\n",
       "      <td>5.750000</td>\n",
       "      <td>1.750000</td>\n",
       "      <td>4.000000</td>\n",
       "      <td>21.585000</td>\n",
       "      <td>4.300000</td>\n",
       "      <td>0.000000</td>\n",
       "      <td>17.150000</td>\n",
       "      <td>2.250000</td>\n",
       "      <td>0.000000</td>\n",
       "      <td>18.750000</td>\n",
       "      <td>3.525000</td>\n",
       "      <td>0.000000</td>\n",
       "      <td>2.000000</td>\n",
       "    </tr>\n",
       "    <tr>\n",
       "      <th>50%</th>\n",
       "      <td>40.5000</td>\n",
       "      <td>10.500000</td>\n",
       "      <td>2.500000</td>\n",
       "      <td>4.000000</td>\n",
       "      <td>33.331500</td>\n",
       "      <td>10.000000</td>\n",
       "      <td>1.000000</td>\n",
       "      <td>21.150000</td>\n",
       "      <td>5.000000</td>\n",
       "      <td>0.665000</td>\n",
       "      <td>22.200000</td>\n",
       "      <td>6.500000</td>\n",
       "      <td>0.800000</td>\n",
       "      <td>3.000000</td>\n",
       "    </tr>\n",
       "    <tr>\n",
       "      <th>75%</th>\n",
       "      <td>60.2500</td>\n",
       "      <td>15.250000</td>\n",
       "      <td>3.250000</td>\n",
       "      <td>4.000000</td>\n",
       "      <td>43.360000</td>\n",
       "      <td>20.000000</td>\n",
       "      <td>4.962500</td>\n",
       "      <td>27.750000</td>\n",
       "      <td>9.812500</td>\n",
       "      <td>2.050000</td>\n",
       "      <td>35.250000</td>\n",
       "      <td>18.000000</td>\n",
       "      <td>3.200000</td>\n",
       "      <td>3.000000</td>\n",
       "    </tr>\n",
       "    <tr>\n",
       "      <th>max</th>\n",
       "      <td>80.0000</td>\n",
       "      <td>20.000000</td>\n",
       "      <td>4.000000</td>\n",
       "      <td>4.000000</td>\n",
       "      <td>100.000000</td>\n",
       "      <td>100.000000</td>\n",
       "      <td>100.000000</td>\n",
       "      <td>100.000000</td>\n",
       "      <td>29.000000</td>\n",
       "      <td>4.330000</td>\n",
       "      <td>100.000000</td>\n",
       "      <td>50.000000</td>\n",
       "      <td>82.000000</td>\n",
       "      <td>4.000000</td>\n",
       "    </tr>\n",
       "  </tbody>\n",
       "</table>\n",
       "</div>"
      ],
      "text/plain": [
       "       Individual Code       Seat     Market  Number of Answers  \\\n",
       "count          80.0000  80.000000  80.000000          80.000000   \n",
       "mean           40.5000  10.500000   2.500000           3.825000   \n",
       "std            23.2379   5.802662   1.125088           0.382364   \n",
       "min             1.0000   1.000000   1.000000           3.000000   \n",
       "25%            20.7500   5.750000   1.750000           4.000000   \n",
       "50%            40.5000  10.500000   2.500000           4.000000   \n",
       "75%            60.2500  15.250000   3.250000           4.000000   \n",
       "max            80.0000  20.000000   4.000000           4.000000   \n",
       "\n",
       "       Individual Answer Stage 1  Individual Answer Stage 2  \\\n",
       "count                  80.000000                  80.000000   \n",
       "mean                   36.126765                  15.340342   \n",
       "std                    23.635821                  17.060620   \n",
       "min                     0.000000                   0.000000   \n",
       "25%                    21.585000                   4.300000   \n",
       "50%                    33.331500                  10.000000   \n",
       "75%                    43.360000                  20.000000   \n",
       "max                   100.000000                 100.000000   \n",
       "\n",
       "       Individual Answer Stage 3  Group Answer Stage 1  Group Answer Stage 2  \\\n",
       "count                  80.000000             60.000000             60.000000   \n",
       "mean                    7.669050             24.580000              7.407500   \n",
       "std                    19.154481             21.226158              8.107879   \n",
       "min                     0.000000              0.000000              0.000000   \n",
       "25%                     0.000000             17.150000              2.250000   \n",
       "50%                     1.000000             21.150000              5.000000   \n",
       "75%                     4.962500             27.750000              9.812500   \n",
       "max                   100.000000            100.000000             29.000000   \n",
       "\n",
       "       Group Answer Stage 3  Final Answer Stage 1  Final Answer Stage 2  \\\n",
       "count             60.000000             80.000000             80.000000   \n",
       "mean               1.069500             28.755788             11.240625   \n",
       "std                1.288075             23.001638             12.393299   \n",
       "min                0.000000              0.000000              0.000000   \n",
       "25%                0.000000             18.750000              3.525000   \n",
       "50%                0.665000             22.200000              6.500000   \n",
       "75%                2.050000             35.250000             18.000000   \n",
       "max                4.330000            100.000000             50.000000   \n",
       "\n",
       "       Final Answer Stage 3     Skills  \n",
       "count             80.000000  66.000000  \n",
       "mean               4.539800   2.500000  \n",
       "std               11.857805   0.808608  \n",
       "min                0.000000   1.000000  \n",
       "25%                0.000000   2.000000  \n",
       "50%                0.800000   3.000000  \n",
       "75%                3.200000   3.000000  \n",
       "max               82.000000   4.000000  "
      ]
     },
     "execution_count": 6,
     "metadata": {},
     "output_type": "execute_result"
    }
   ],
   "source": [
    "df.describe()"
   ]
  },
  {
   "cell_type": "markdown",
   "metadata": {},
   "source": [
    "<div style=\"margin-top: 100px;\"></div>"
   ]
  },
  {
   "cell_type": "markdown",
   "metadata": {},
   "source": [
    "## Data Wrangling"
   ]
  },
  {
   "cell_type": "code",
   "execution_count": 7,
   "metadata": {},
   "outputs": [
    {
     "data": {
      "text/plain": [
       "ID                            object\n",
       "Individual Code                int64\n",
       "Seat                           int64\n",
       "Treatment                     object\n",
       "Market                         int64\n",
       "Gender                        object\n",
       "Number of Answers              int64\n",
       "Answers Missing                 bool\n",
       "Individual Answer Stage 1    float64\n",
       "Individual Answer Stage 2    float64\n",
       "Individual Answer Stage 3    float64\n",
       "Individual Answer Stage 4     object\n",
       "Group Answer Stage 1         float64\n",
       "Group Answer Stage 2         float64\n",
       "Group Answer Stage 3         float64\n",
       "Group Answer Stage 4          object\n",
       "Final Answer Stage 1         float64\n",
       "Final Answer Stage 2         float64\n",
       "Final Answer Stage 3         float64\n",
       "Final Answer Stage 4          object\n",
       "Time Individual Stage 1       object\n",
       "Time Individual Stage 2       object\n",
       "Time Individual Stage 3       object\n",
       "Time Individual Stage 4       object\n",
       "Time Group Stage 1            object\n",
       "Time Group Stage 2            object\n",
       "Time Group Stage 3            object\n",
       "Time Group Stage 4            object\n",
       "Experience                    object\n",
       "Skills                       float64\n",
       "dtype: object"
      ]
     },
     "execution_count": 7,
     "metadata": {},
     "output_type": "execute_result"
    }
   ],
   "source": [
    "df.dtypes"
   ]
  },
  {
   "cell_type": "markdown",
   "metadata": {},
   "source": [
    "We need to make the following type adjustments\n",
    "\n",
    "**To Float**\n",
    "- Individual Answer Stage 4\n",
    "- Group Answer Stage 4\n",
    "\n",
    "**To DateTime**\n",
    "- Time Individual Stage 1\n",
    "- Time Individual Stage 2\n",
    "- Time Individual Stage 3\n",
    "- Time Individual Stage 4\n",
    "- Time Group Stage 1\n",
    "- Time Group Stage 2\n",
    "- Time Group Stage 3\n",
    "- Time Group Stage 4\n",
    "\n",
    "**To Bool**\n",
    "- Experience"
   ]
  },
  {
   "cell_type": "markdown",
   "metadata": {},
   "source": [
    "But first, we will change the name of some columns for convenience"
   ]
  },
  {
   "cell_type": "code",
   "execution_count": 8,
   "metadata": {},
   "outputs": [],
   "source": [
    "df.rename(\n",
    "    columns={\n",
    "        \"Time Individual Stage 1\": \"time_ind_stage1\",\n",
    "        \"Time Individual Stage 2\": \"time_ind_stage2\",\n",
    "        \"Time Individual Stage 3\": \"time_ind_stage3\",\n",
    "        \"Time Individual Stage 4\": \"time_ind_stage4\",\n",
    "        \"Time Group Stage 1\": \"time_group_stage1\",\n",
    "        \"Time Group Stage 2\": \"time_group_stage2\",\n",
    "        \"Time Group Stage 3\": \"time_group_stage3\",\n",
    "        \"Time Group Stage 4\": \"time_group_stage4\",\n",
    "    },\n",
    "    inplace=True\n",
    ")"
   ]
  },
  {
   "cell_type": "code",
   "execution_count": 9,
   "metadata": {},
   "outputs": [
    {
     "data": {
      "text/plain": [
       "Index(['ID', 'Individual Code', 'Seat', 'Treatment', 'Market', 'Gender',\n",
       "       'Number of Answers', 'Answers Missing', 'Individual Answer Stage 1',\n",
       "       'Individual Answer Stage 2', 'Individual Answer Stage 3',\n",
       "       'Individual Answer Stage 4', 'Group Answer Stage 1',\n",
       "       'Group Answer Stage 2', 'Group Answer Stage 3', 'Group Answer Stage 4',\n",
       "       'Final Answer Stage 1', 'Final Answer Stage 2', 'Final Answer Stage 3',\n",
       "       'Final Answer Stage 4', 'time_ind_stage1', 'time_ind_stage2',\n",
       "       'time_ind_stage3', 'time_ind_stage4', 'time_group_stage1',\n",
       "       'time_group_stage2', 'time_group_stage3', 'time_group_stage4',\n",
       "       'Experience', 'Skills'],\n",
       "      dtype='object')"
      ]
     },
     "execution_count": 9,
     "metadata": {},
     "output_type": "execute_result"
    }
   ],
   "source": [
    "df.columns"
   ]
  },
  {
   "cell_type": "markdown",
   "metadata": {},
   "source": [
    "**Parsing Floats**"
   ]
  },
  {
   "cell_type": "code",
   "execution_count": 10,
   "metadata": {},
   "outputs": [],
   "source": [
    "df.loc[df[\"Individual Answer Stage 4\"] == \"-\", \"Individual Answer Stage 4\"] = np.nan\n",
    "df['Individual Answer Stage 4'] = pd.to_numeric(df['Individual Answer Stage 4'],errors='coerce')\n",
    "\n",
    "df.loc[df[\"Group Answer Stage 4\"] == \"-\", \"Group Answer Stage 4\"] = np.nan\n",
    "df['Group Answer Stage 4'] = pd.to_numeric(df['Group Answer Stage 4'],errors='coerce')\n",
    "\n",
    "df.loc[df[\"Final Answer Stage 4\"] == \"-\", \"Final Answer Stage 4\"] = np.nan\n",
    "df['Final Answer Stage 4'] = pd.to_numeric(df['Final Answer Stage 4'],errors='coerce')"
   ]
  },
  {
   "cell_type": "markdown",
   "metadata": {},
   "source": [
    "**Parsing Dates**"
   ]
  },
  {
   "cell_type": "code",
   "execution_count": 11,
   "metadata": {},
   "outputs": [],
   "source": [
    "df[\"time_ind_stage1\"] = pd.to_datetime(df[\"time_ind_stage1\"])\n",
    "df[\"time_ind_stage2\"] = pd.to_datetime(df[\"time_ind_stage2\"])\n",
    "df[\"time_ind_stage3\"] = pd.to_datetime(df[\"time_ind_stage3\"])\n",
    "\n",
    "df.loc[df[\"time_ind_stage4\"] == \"-\", \"time_ind_stage4\"] = np.nan\n",
    "df[\"time_ind_stage4\"] = pd.to_datetime(df[\"time_ind_stage4\"])\n",
    "\n",
    "df[\"time_group_stage1\"] = pd.to_datetime(df[\"time_group_stage1\"])\n",
    "df[\"time_group_stage2\"] = pd.to_datetime(df[\"time_group_stage2\"])\n",
    "df[\"time_group_stage3\"] = pd.to_datetime(df[\"time_group_stage3\"])\n",
    "\n",
    "df.loc[df[\"time_group_stage4\"] == \"-\", \"time_group_stage4\"] = np.nan\n",
    "df[\"time_group_stage4\"] = pd.to_datetime(df[\"time_group_stage4\"])"
   ]
  },
  {
   "cell_type": "markdown",
   "metadata": {},
   "source": [
    "**Parsing Booleans**"
   ]
  },
  {
   "cell_type": "code",
   "execution_count": 12,
   "metadata": {},
   "outputs": [
    {
     "data": {
      "text/plain": [
       "array(['Yes', 'No', nan], dtype=object)"
      ]
     },
     "execution_count": 12,
     "metadata": {},
     "output_type": "execute_result"
    }
   ],
   "source": [
    "df[\"Experience\"].unique()"
   ]
  },
  {
   "cell_type": "code",
   "execution_count": 13,
   "metadata": {},
   "outputs": [],
   "source": [
    "df[\"experience\"] = np.nan\n",
    "df.loc[df[\"Experience\"] == \"Yes\", \"experience\"] = True\n",
    "df.loc[df[\"Experience\"] == \"No\", \"experience\"] = False"
   ]
  },
  {
   "cell_type": "code",
   "execution_count": 14,
   "metadata": {},
   "outputs": [
    {
     "data": {
      "text/plain": [
       "ID                                   object\n",
       "Individual Code                       int64\n",
       "Seat                                  int64\n",
       "Treatment                            object\n",
       "Market                                int64\n",
       "Gender                               object\n",
       "Number of Answers                     int64\n",
       "Answers Missing                        bool\n",
       "Individual Answer Stage 1           float64\n",
       "Individual Answer Stage 2           float64\n",
       "Individual Answer Stage 3           float64\n",
       "Individual Answer Stage 4           float64\n",
       "Group Answer Stage 1                float64\n",
       "Group Answer Stage 2                float64\n",
       "Group Answer Stage 3                float64\n",
       "Group Answer Stage 4                float64\n",
       "Final Answer Stage 1                float64\n",
       "Final Answer Stage 2                float64\n",
       "Final Answer Stage 3                float64\n",
       "Final Answer Stage 4                float64\n",
       "time_ind_stage1              datetime64[ns]\n",
       "time_ind_stage2              datetime64[ns]\n",
       "time_ind_stage3              datetime64[ns]\n",
       "time_ind_stage4              datetime64[ns]\n",
       "time_group_stage1            datetime64[ns]\n",
       "time_group_stage2            datetime64[ns]\n",
       "time_group_stage3            datetime64[ns]\n",
       "time_group_stage4            datetime64[ns]\n",
       "Experience                           object\n",
       "Skills                              float64\n",
       "experience                           object\n",
       "dtype: object"
      ]
     },
     "execution_count": 14,
     "metadata": {},
     "output_type": "execute_result"
    }
   ],
   "source": [
    "df.dtypes"
   ]
  },
  {
   "cell_type": "markdown",
   "metadata": {},
   "source": [
    "<br><br>\n",
    "\n",
    "Beside all this type parsing, the data is in general clean because the collection method was designed in such a way to prevent inconsitencies. In any case, small inconsitencies were solved (either straight away during the experiment or in a following data cleaning process)."
   ]
  },
  {
   "cell_type": "markdown",
   "metadata": {},
   "source": [
    "<div style=\"margin-top: 100px;\"></div>"
   ]
  },
  {
   "cell_type": "markdown",
   "metadata": {},
   "source": [
    "## Exploratory Data Analysis"
   ]
  },
  {
   "cell_type": "code",
   "execution_count": 15,
   "metadata": {
    "jupyter": {
     "source_hidden": true
    }
   },
   "outputs": [
    {
     "data": {
      "image/png": "[encoded data removed]",
      "text/plain": [
       "<Figure size 1440x2016 with 8 Axes>"
      ]
     },
     "metadata": {
      "needs_background": "light"
     },
     "output_type": "display_data"
    }
   ],
   "source": [
    "fig, ((ax1, ax2), (ax3, ax4), (ax5, ax6), (ax7, ax8)) = plt.subplots(4, 2, figsize=(20, 28))\n",
    "\n",
    "sns.countplot(\"Gender\", data=df, ax=ax1, palette=colors)\n",
    "ax1.set_title(\"Distribution of Gender\\n\", fontsize=14)\n",
    "ax1.set_xlabel(\"\\nGender\")\n",
    "ax1.set_ylabel(\"Total Count\\n\")\n",
    "\n",
    "sns.countplot(\"experience\", data=df, ax=ax2, palette=colors)\n",
    "ax2.set_title(\"Have you taken a course on Game Theory/Strategy\\n or a similar subject before Behavioural Economics?\", fontsize=14)\n",
    "ax2.set_xlabel(\"\\nExperience\")\n",
    "ax2.set_ylabel(\"Total Count\\n\")\n",
    "\n",
    "sns.countplot(\"Skills\", data=df, ax=ax3, palette=colors)\n",
    "ax3.set_title(\"Identify your knowledge in strategy and decision\\n making on a scale from 1 (low) to 4 (high)\", fontsize=14)\n",
    "ax3.set_xlabel(\"\\nSkill\")\n",
    "ax3.set_ylabel(\"Total Count\\n\")\n",
    "\n",
    "df.groupby(\"Skills\")[\"Individual Answer Stage 1\"].mean().plot(kind=\"bar\", ax=ax4, color=colors)\n",
    "ax4.set_title(\"Average First Individual Response by Self-Reported Skill Level\", fontsize=14)\n",
    "ax4.set_xlabel(\"\\nSkill\")\n",
    "ax4.set_ylabel(\"Average Response\\n\")\n",
    "ax4.tick_params(labelrotation=0)\n",
    "\n",
    "df.groupby(\"experience\")[\"Individual Answer Stage 1\"].mean().plot(kind=\"bar\", ax=ax5, color=colors)\n",
    "ax5.set_title(\"Average First Individual Response by Reported Experience\", fontsize=14)\n",
    "ax5.set_xlabel(\"\\nPrevious Experience\")\n",
    "ax5.set_ylabel(\"Average Response\\n\")\n",
    "ax5.tick_params(labelrotation=0)\n",
    "\n",
    "df.groupby(\"Treatment\")[\"Individual Answer Stage 1\"].mean().plot(kind=\"bar\", ax=ax6, color=colors)\n",
    "ax6.set_title(\"Average First Individual Response by Treatment Group\", fontsize=14)\n",
    "ax6.set_xlabel(\"\\nTreatment Group\")\n",
    "ax6.set_ylabel(\"Average Response\\n\")\n",
    "ax6.tick_params(labelrotation=0)\n",
    "\n",
    "sns.countplot(\"Gender\", data=df[df[\"Treatment\"] == \"I\"].sort_values(\"Gender\"), ax=ax7, palette=colors)\n",
    "ax7.set_title(\"Distribution of Gender (Individuals Treatment)\", fontsize=14)\n",
    "ax7.set_xlabel(\"\\nGender\")\n",
    "ax7.set_ylabel(\"Total Count\\n\")\n",
    "\n",
    "\n",
    "sns.countplot(\"Gender\", data=df[df[\"Treatment\"] == \"G\"].sort_values(\"Gender\"), ax=ax8, palette=colors)\n",
    "ax8.set_title(\"Distribution of Gender (Group Treatment)\", fontsize=14)\n",
    "ax8.set_xlabel(\"\\nGender\")\n",
    "ax8.set_ylabel(\"Total Count\\n\")\n",
    "\n",
    "\n",
    "fig.subplots_adjust(hspace=0.4)\n",
    "\n",
    "plt.show()"
   ]
  },
  {
   "cell_type": "code",
   "execution_count": 16,
   "metadata": {
    "jupyter": {
     "source_hidden": true
    }
   },
   "outputs": [
    {
     "data": {
      "image/png": "[encoded data removed]",
      "text/plain": [
       "<Figure size 1800x576 with 3 Axes>"
      ]
     },
     "metadata": {
      "needs_background": "light"
     },
     "output_type": "display_data"
    }
   ],
   "source": [
    "fig, (ax1, ax2, ax3) = plt.subplots(1, 3, figsize=(25, 8))\n",
    "\n",
    "df.groupby(\"Treatment\")[\"Final Answer Stage 1\"].mean().plot(kind=\"bar\", ax=ax1, color=colors, rot=0)\n",
    "\n",
    "ax1.set_title(\"Average Final Response by Treatment Group (Round 1)\\n\", fontsize=16)\n",
    "ax1.set_xlabel(\"Treatment Group\")\n",
    "ax1.set_ylabel(\"Average Response\")\n",
    "ax1.set_ylim(0, 100)\n",
    "\n",
    "\n",
    "df.groupby(\"Treatment\")[\"Final Answer Stage 2\"].mean().plot(kind=\"bar\", ax=ax2, color=colors, rot=0)\n",
    "\n",
    "ax2.set_title(\"Average Final Response by Treatment Group (Round 2)\\n\", fontsize=16)\n",
    "ax2.set_xlabel(\"Treatment Group\")\n",
    "ax2.set_ylabel(\"Average Response\")\n",
    "ax2.set_ylim(0, 100)\n",
    "\n",
    "\n",
    "df.groupby(\"Treatment\")[\"Final Answer Stage 3\"].mean().plot(kind=\"bar\", ax=ax3, color=colors, rot=0)\n",
    "\n",
    "ax3.set_title(\"Average Final Response by Treatment Group (Round 3)\\n\", fontsize=16)\n",
    "ax3.set_xlabel(\"Treatment Group\")\n",
    "ax3.set_ylabel(\"Average Response\")\n",
    "ax3.set_ylim(0, 100)\n",
    "\n",
    "\n",
    "plt.show()"
   ]
  },
  {
   "cell_type": "markdown",
   "metadata": {},
   "source": [
    "<div style=\"margin-top: 100px;\"></div>"
   ]
  },
  {
   "cell_type": "markdown",
   "metadata": {},
   "source": [
    "## Data Analysis"
   ]
  },
  {
   "cell_type": "markdown",
   "metadata": {},
   "source": [
    "### Internal Validity"
   ]
  },
  {
   "cell_type": "markdown",
   "metadata": {},
   "source": [
    "#### Gender Distribution"
   ]
  },
  {
   "cell_type": "markdown",
   "metadata": {},
   "source": [
    "Generate a table of proportions and total for gender for each treatment."
   ]
  },
  {
   "cell_type": "code",
   "execution_count": 17,
   "metadata": {},
   "outputs": [],
   "source": [
    "genders = df[\"Gender\"].unique()\n",
    "treatments = df[\"Treatment\"].unique()\n",
    "gender_proportions = {\n",
    "    \"I\": {},\n",
    "    \"G\": {}\n",
    "}\n",
    "gender_totals = {\n",
    "    \"I\": {},\n",
    "    \"G\": {}\n",
    "}\n",
    "\n",
    "for gender in genders:\n",
    "    for treatment in treatments:\n",
    "        total = df[(df[\"Treatment\"] == treatment) & (df[\"Gender\"] == gender)][\"ID\"].count()\n",
    "        proportion = total / df[(df[\"Treatment\"] == treatment)][\"ID\"].count()\n",
    "        gender_proportions[treatment][gender] = proportion\n",
    "        gender_totals[treatment][gender] = total\n"
   ]
  },
  {
   "cell_type": "code",
   "execution_count": 18,
   "metadata": {
    "jupyter": {
     "source_hidden": true
    }
   },
   "outputs": [
    {
     "data": {
      "image/png": "[encoded data removed]",
      "text/plain": [
       "<Figure size 1440x576 with 2 Axes>"
      ]
     },
     "metadata": {
      "needs_background": "dark"
     },
     "output_type": "display_data"
    }
   ],
   "source": [
    "fig, (ax1, ax2) = plt.subplots(1, 2, figsize=(20, 8))\n",
    "\n",
    "sns.barplot([\"Female\", \"Male\"], list(gender_proportions[\"I\"].values()), ax=ax1, palette=colors)\n",
    "ax1.set_title(\"Distribution of Gender (Individuals Treatment)\\n\", fontsize=22)\n",
    "ax1.set_xlabel(\"\\nGender\", fontsize=16)\n",
    "ax1.set_ylabel(\"Proportion\\n\", fontsize=16)\n",
    "\n",
    "ax1.spines['bottom'].set_color('white')\n",
    "ax1.spines['top'].set_color('white') \n",
    "ax1.spines['right'].set_color('white')\n",
    "ax1.spines['left'].set_color('white')\n",
    "ax1.tick_params(axis='x', colors='white')\n",
    "ax1.tick_params(axis='y', colors='white')\n",
    "ax1.yaxis.label.set_color('white')\n",
    "ax1.xaxis.label.set_color('white')\n",
    "ax1.title.set_color('white')\n",
    "ax1.set_ylim(0, 1)\n",
    "\n",
    "\n",
    "sns.barplot([\"Female\", \"Male\"], list(gender_proportions[\"G\"].values()), ax=ax2, palette=colors)\n",
    "ax2.set_title(\"Distribution of Gender (Group Treatment)\\n\", fontsize=22)\n",
    "ax2.set_xlabel(\"\\nGender\", fontsize=16)\n",
    "ax2.set_ylabel(\"Proportion\\n\", fontsize=16)\n",
    "\n",
    "ax2.spines['bottom'].set_color('white')\n",
    "ax2.spines['top'].set_color('white') \n",
    "ax2.spines['right'].set_color('white')\n",
    "ax2.spines['left'].set_color('white')\n",
    "ax2.tick_params(axis='x', colors='white')\n",
    "ax2.tick_params(axis='y', colors='white')\n",
    "ax2.yaxis.label.set_color('white')\n",
    "ax2.xaxis.label.set_color('white')\n",
    "ax2.title.set_color('white')\n",
    "ax2.set_ylim(0, 1)\n",
    "\n",
    "plt.savefig('gender_distribution_treatments.png', transparent=\"True\")\n",
    "\n",
    "plt.show()"
   ]
  },
  {
   "cell_type": "markdown",
   "metadata": {},
   "source": [
    "Test for difference in proportions"
   ]
  },
  {
   "cell_type": "code",
   "execution_count": 19,
   "metadata": {},
   "outputs": [
    {
     "data": {
      "text/plain": [
       "{'I': {'Female': 0.4, 'Male': 0.6},\n",
       " 'G': {'Female': 0.4166666666666667, 'Male': 0.5833333333333334}}"
      ]
     },
     "execution_count": 19,
     "metadata": {},
     "output_type": "execute_result"
    }
   ],
   "source": [
    "gender_proportions"
   ]
  },
  {
   "cell_type": "code",
   "execution_count": 20,
   "metadata": {},
   "outputs": [
    {
     "data": {
      "text/plain": [
       "{'I': {'Female': 8, 'Male': 12}, 'G': {'Female': 25, 'Male': 35}}"
      ]
     },
     "execution_count": 20,
     "metadata": {},
     "output_type": "execute_result"
    }
   ],
   "source": [
    "gender_totals"
   ]
  },
  {
   "cell_type": "code",
   "execution_count": 21,
   "metadata": {},
   "outputs": [
    {
     "name": "stdout",
     "output_type": "stream",
     "text": [
      "z-stat: 0.1311228762747762\n",
      "p-value: 0.8956781047476398\n"
     ]
    }
   ],
   "source": [
    "yeses_i = gender_totals[\"I\"][\"Male\"]\n",
    "totals_i = yeses_i + gender_totals[\"I\"][\"Female\"]\n",
    "\n",
    "yeses_g = gender_totals[\"G\"][\"Male\"]\n",
    "totals_g = yeses_g + gender_totals[\"G\"][\"Female\"]\n",
    "\n",
    "z, p = proportions_ztest([yeses_i, yeses_g], [totals_i, totals_g])\n",
    "print(f\"z-stat: {z}\\np-value: {p}\")"
   ]
  },
  {
   "cell_type": "markdown",
   "metadata": {},
   "source": [
    "#### Average First Individual Response"
   ]
  },
  {
   "cell_type": "markdown",
   "metadata": {},
   "source": [
    "Because for the first individual answer in the groups treatment, they didn't discussed with the group yet, it reflects their true intent.\n",
    "\n",
    "If the difference is not significant, then we can assume the treatments were different."
   ]
  },
  {
   "cell_type": "code",
   "execution_count": 22,
   "metadata": {
    "jupyter": {
     "source_hidden": true
    }
   },
   "outputs": [
    {
     "data": {
      "image/png": "[encoded data removed]",
      "text/plain": [
       "<Figure size 1152x720 with 1 Axes>"
      ]
     },
     "metadata": {
      "needs_background": "dark"
     },
     "output_type": "display_data"
    }
   ],
   "source": [
    "fig, ax = plt.subplots(1, 1, figsize=(16, 10))\n",
    "\n",
    "df.groupby(\"Treatment\")[\"Individual Answer Stage 1\"].mean().plot(kind=\"bar\", ax=ax, color=colors)\n",
    "\n",
    "ax.set_title(\"Average First Individual Response by Treatment Group\\n\", fontsize=26)\n",
    "ax.set_xlabel(\"Treatment Group\", fontsize=20)\n",
    "ax.set_ylabel(\"Average Response\\n\", fontsize=20)\n",
    "plt.xticks(rotation=0)\n",
    "\n",
    "ax.spines['bottom'].set_color('white')\n",
    "ax.spines['top'].set_color('white') \n",
    "ax.spines['right'].set_color('white')\n",
    "ax.spines['left'].set_color('white')\n",
    "ax.tick_params(axis='x', colors='white')\n",
    "ax.tick_params(axis='y', colors='white')\n",
    "ax.yaxis.label.set_color('white')\n",
    "ax.xaxis.label.set_color('white')\n",
    "ax.title.set_color('white')\n",
    "ax.set_xticklabels([\"Groups\", \"Individuals\"])\n",
    "ax.tick_params(axis='both', which='major', labelsize=16)\n",
    "\n",
    "plt.savefig('avg_individual_response_round1.png', transparent=\"True\")\n",
    "\n",
    "plt.show()"
   ]
  },
  {
   "cell_type": "markdown",
   "metadata": {},
   "source": [
    "Testing the difference in means"
   ]
  },
  {
   "cell_type": "code",
   "execution_count": 23,
   "metadata": {},
   "outputs": [],
   "source": [
    "y = df[df[\"Treatment\"] == \"I\"][\"Individual Answer Stage 1\"].to_list()\n",
    "x = df[df[\"Treatment\"] == \"G\"][\"Individual Answer Stage 1\"].to_list()"
   ]
  },
  {
   "cell_type": "code",
   "execution_count": 24,
   "metadata": {},
   "outputs": [
    {
     "name": "stdout",
     "output_type": "stream",
     "text": [
      "t-stat: -1.1285209867807153\n",
      "p-value: 0.2625590736752503\n"
     ]
    }
   ],
   "source": [
    "t, p = ttest_ind(x, y)\n",
    "\n",
    "print(f\"t-stat: {t}\\np-value: {p}\")"
   ]
  },
  {
   "cell_type": "markdown",
   "metadata": {},
   "source": [
    "Because the normality approximation of the difference in means is arguable ($N_{\\text{Individuals}} = 20 < 30$), we can also do a Mann-Whitney U test"
   ]
  },
  {
   "cell_type": "code",
   "execution_count": 25,
   "metadata": {},
   "outputs": [],
   "source": [
    "x = df[df[\"Treatment\"] == \"G\"][\"Individual Answer Stage 1\"].tolist()\n",
    "y = df[df[\"Treatment\"] == \"I\"][\"Individual Answer Stage 1\"].tolist()"
   ]
  },
  {
   "cell_type": "code",
   "execution_count": 26,
   "metadata": {},
   "outputs": [
    {
     "name": "stdout",
     "output_type": "stream",
     "text": [
      "U-stat: 471.5\n",
      "p-value: 0.07738168081380284\n"
     ]
    }
   ],
   "source": [
    "u, p = mannwhitneyu(x, y)\n",
    "print(f\"U-stat: {u}\\np-value: {p}\")"
   ]
  },
  {
   "cell_type": "markdown",
   "metadata": {},
   "source": [
    "#### Distribution of Experience"
   ]
  },
  {
   "cell_type": "markdown",
   "metadata": {},
   "source": [
    "We want to understand if the two treatments are similar in terms of experience reported."
   ]
  },
  {
   "cell_type": "code",
   "execution_count": 27,
   "metadata": {},
   "outputs": [],
   "source": [
    "not_nas = df.dropna(subset=[\"Experience\"])\n",
    "experiences = not_nas[\"Experience\"].unique()\n",
    "treatments = not_nas[\"Treatment\"].unique()\n",
    "experience_proportions = {\n",
    "    \"I\": {},\n",
    "    \"G\": {}\n",
    "}\n",
    "experience_totals = {\n",
    "    \"I\": {},\n",
    "    \"G\": {}\n",
    "}\n",
    "\n",
    "for experience in experiences:\n",
    "    for treatment in treatments:\n",
    "        total = not_nas[(not_nas[\"Treatment\"] == treatment) & (not_nas[\"Experience\"] == experience)][\"ID\"].count()\n",
    "        proportion = total / not_nas[(not_nas[\"Treatment\"] == treatment)][\"Experience\"].count()\n",
    "        experience_proportions[treatment][experience] = proportion\n",
    "        experience_totals[treatment][experience] = total\n"
   ]
  },
  {
   "cell_type": "code",
   "execution_count": 28,
   "metadata": {
    "jupyter": {
     "source_hidden": true
    }
   },
   "outputs": [
    {
     "data": {
      "image/png": "[encoded data removed]",
      "text/plain": [
       "<Figure size 1440x576 with 2 Axes>"
      ]
     },
     "metadata": {
      "needs_background": "dark"
     },
     "output_type": "display_data"
    }
   ],
   "source": [
    "fig, (ax1, ax2) = plt.subplots(1, 2, figsize=(20, 8))\n",
    "\n",
    "exp_ind = list(experience_proportions[\"I\"].values())\n",
    "sns.barplot([\"Yes\", \"No\"], exp_ind, ax=ax1, palette=colors)\n",
    "ax1.set_title(\"Distribution of Experience (Individuals Treatment)\\n\", fontsize=22)\n",
    "ax1.set_xlabel(\"\\nExperience\", fontsize=16)\n",
    "ax1.set_ylabel(\"Proportion\\n\", fontsize=16)\n",
    "\n",
    "ax1.spines['bottom'].set_color('white')\n",
    "ax1.spines['top'].set_color('white') \n",
    "ax1.spines['right'].set_color('white')\n",
    "ax1.spines['left'].set_color('white')\n",
    "ax1.tick_params(axis='x', colors='white')\n",
    "ax1.tick_params(axis='y', colors='white')\n",
    "ax1.yaxis.label.set_color('white')\n",
    "ax1.xaxis.label.set_color('white')\n",
    "ax1.title.set_color('white')\n",
    "ax1.set_ylim(0, 1)\n",
    "\n",
    "\n",
    "exp_ind = list(experience_proportions[\"G\"].values())\n",
    "sns.barplot([\"Yes\", \"No\"], exp_ind, ax=ax2, palette=colors)\n",
    "ax2.set_title(\"Distribution of Experience (Group Treatment)\\n\", fontsize=22)\n",
    "ax2.set_xlabel(\"\\nExperience\", fontsize=16)\n",
    "ax2.set_ylabel(\"Proportion\\n\", fontsize=16)\n",
    "\n",
    "ax2.spines['bottom'].set_color('white')\n",
    "ax2.spines['top'].set_color('white') \n",
    "ax2.spines['right'].set_color('white')\n",
    "ax2.spines['left'].set_color('white')\n",
    "ax2.tick_params(axis='x', colors='white')\n",
    "ax2.tick_params(axis='y', colors='white')\n",
    "ax2.yaxis.label.set_color('white')\n",
    "ax2.xaxis.label.set_color('white')\n",
    "ax2.title.set_color('white')\n",
    "ax2.set_ylim(0, 1)\n",
    "\n",
    "plt.savefig('experience_distribution_treatments.png', transparent=\"True\")\n",
    "\n",
    "plt.show()"
   ]
  },
  {
   "cell_type": "markdown",
   "metadata": {},
   "source": [
    "We can test the difference in proportions"
   ]
  },
  {
   "cell_type": "code",
   "execution_count": 29,
   "metadata": {},
   "outputs": [
    {
     "data": {
      "text/plain": [
       "{'I': {'Yes': 0.55, 'No': 0.45},\n",
       " 'G': {'Yes': 0.7608695652173914, 'No': 0.2391304347826087}}"
      ]
     },
     "execution_count": 29,
     "metadata": {},
     "output_type": "execute_result"
    }
   ],
   "source": [
    "experience_proportions"
   ]
  },
  {
   "cell_type": "code",
   "execution_count": 30,
   "metadata": {},
   "outputs": [
    {
     "data": {
      "text/plain": [
       "{'I': {'Yes': 11, 'No': 9}, 'G': {'Yes': 35, 'No': 11}}"
      ]
     },
     "execution_count": 30,
     "metadata": {},
     "output_type": "execute_result"
    }
   ],
   "source": [
    "experience_totals"
   ]
  },
  {
   "cell_type": "code",
   "execution_count": 31,
   "metadata": {},
   "outputs": [
    {
     "name": "stdout",
     "output_type": "stream",
     "text": [
      "z-stat: -1.7131124461949745\n",
      "p-value: 0.08669185471921562\n"
     ]
    }
   ],
   "source": [
    "yeses_i = experience_totals[\"I\"][\"Yes\"]\n",
    "totals_i = yeses_i + experience_totals[\"I\"][\"No\"]\n",
    "\n",
    "yeses_g = experience_totals[\"G\"][\"Yes\"]\n",
    "totals_g = yeses_g + experience_totals[\"G\"][\"No\"]\n",
    "\n",
    "z, p = proportions_ztest([yeses_i, yeses_g], [totals_i, totals_g])\n",
    "print(f\"z-stat: {z}\\np-value: {p}\")"
   ]
  },
  {
   "cell_type": "markdown",
   "metadata": {},
   "source": [
    "#### Distribution of Skills"
   ]
  },
  {
   "cell_type": "markdown",
   "metadata": {},
   "source": [
    "We want to understand if the two treatments are similar in terms of self-reported skills."
   ]
  },
  {
   "cell_type": "code",
   "execution_count": 32,
   "metadata": {},
   "outputs": [],
   "source": [
    "not_nas = df.dropna(subset=[\"Skills\"])\n",
    "skills = not_nas[\"Skills\"].unique()\n",
    "skills.sort()\n",
    "treatments = not_nas[\"Treatment\"].unique()\n",
    "skills_proportions = {\n",
    "    \"I\": {},\n",
    "    \"G\": {}\n",
    "}\n",
    "skills_totals = {\n",
    "    \"I\": {},\n",
    "    \"G\": {}\n",
    "}\n",
    "\n",
    "for skill in skills:\n",
    "    for treatment in treatments:\n",
    "        total = not_nas[(not_nas[\"Treatment\"] == treatment) & (not_nas[\"Skills\"] == skill)][\"ID\"].count()\n",
    "        proportion = total / not_nas[(not_nas[\"Treatment\"] == treatment)][\"Skills\"].count()\n",
    "        skills_proportions[treatment][skill] = proportion\n",
    "        skills_totals[treatment][skill] = total\n",
    "\n"
   ]
  },
  {
   "cell_type": "code",
   "execution_count": 33,
   "metadata": {
    "jupyter": {
     "source_hidden": true
    }
   },
   "outputs": [
    {
     "data": {
      "image/png": "[encoded data removed]",
      "text/plain": [
       "<Figure size 1440x576 with 2 Axes>"
      ]
     },
     "metadata": {
      "needs_background": "dark"
     },
     "output_type": "display_data"
    }
   ],
   "source": [
    "colors[3] = \"#c57958\"\n",
    "\n",
    "fig, (ax1, ax2) = plt.subplots(1, 2, figsize=(20, 8))\n",
    "\n",
    "skill_ind = list(skills_proportions[\"I\"].values())\n",
    "sns.barplot(skills, skill_ind, ax=ax1, palette=colors)\n",
    "ax1.set_title(\"Distribution of Skills (Individuals Treatment)\\n\", fontsize=22)\n",
    "ax1.set_xlabel(\"\\nSkill Level\", fontsize=16)\n",
    "ax1.set_ylabel(\"Proportion\\n\", fontsize=16)\n",
    "\n",
    "ax1.spines['bottom'].set_color('white')\n",
    "ax1.spines['top'].set_color('white') \n",
    "ax1.spines['right'].set_color('white')\n",
    "ax1.spines['left'].set_color('white')\n",
    "ax1.tick_params(axis='x', colors='white')\n",
    "ax1.tick_params(axis='y', colors='white')\n",
    "ax1.yaxis.label.set_color('white')\n",
    "ax1.xaxis.label.set_color('white')\n",
    "ax1.title.set_color('white')\n",
    "ax1.set_ylim(0, 1)\n",
    "\n",
    "\n",
    "skill_ind = list(skills_proportions[\"G\"].values())\n",
    "sns.barplot(skills, skill_ind, ax=ax2, palette=colors)\n",
    "ax2.set_title(\"Distribution of Skills (Group Treatment)\\n\", fontsize=22)\n",
    "ax2.set_xlabel(\"\\nSkill Level\", fontsize=16)\n",
    "ax2.set_ylabel(\"Proportion\\n\", fontsize=16)\n",
    "\n",
    "ax2.spines['bottom'].set_color('white')\n",
    "ax2.spines['top'].set_color('white') \n",
    "ax2.spines['right'].set_color('white')\n",
    "ax2.spines['left'].set_color('white')\n",
    "ax2.tick_params(axis='x', colors='white')\n",
    "ax2.tick_params(axis='y', colors='white')\n",
    "ax2.yaxis.label.set_color('white')\n",
    "ax2.xaxis.label.set_color('white')\n",
    "ax2.title.set_color('white')\n",
    "ax2.set_ylim(0, 1)\n",
    "\n",
    "plt.savefig('skill_distribution_treatments.png', transparent=\"True\")\n",
    "\n",
    "plt.show()"
   ]
  },
  {
   "cell_type": "markdown",
   "metadata": {},
   "source": [
    "We can test the difference in proportions with a 𝜒² contingency table"
   ]
  },
  {
   "cell_type": "code",
   "execution_count": 34,
   "metadata": {},
   "outputs": [
    {
     "name": "stdout",
     "output_type": "stream",
     "text": [
      "{'I': {1.0: 0.15, 2.0: 0.5, 3.0: 0.3, 4.0: 0.05}, 'G': {1.0: 0.08695652173913043, 2.0: 0.32608695652173914, 3.0: 0.4782608695652174, 4.0: 0.10869565217391304}}\n"
     ]
    }
   ],
   "source": [
    "print(skills_proportions)"
   ]
  },
  {
   "cell_type": "code",
   "execution_count": 35,
   "metadata": {},
   "outputs": [
    {
     "name": "stdout",
     "output_type": "stream",
     "text": [
      "{'I': {1.0: 3, 2.0: 10, 3.0: 6, 4.0: 1}, 'G': {1.0: 4, 2.0: 15, 3.0: 22, 4.0: 5}}\n"
     ]
    }
   ],
   "source": [
    "print(skills_totals)"
   ]
  },
  {
   "cell_type": "code",
   "execution_count": 36,
   "metadata": {},
   "outputs": [
    {
     "data": {
      "text/plain": [
       "[[3, 10, 6, 1], [4, 15, 22, 5]]"
      ]
     },
     "execution_count": 36,
     "metadata": {},
     "output_type": "execute_result"
    }
   ],
   "source": [
    "contingency_table = []\n",
    "for treatment in skills_totals:\n",
    "    counts = []\n",
    "    for level in skills_totals[treatment]:\n",
    "        counts.append(skills_totals[treatment][level])\n",
    "    contingency_table.append(counts)\n",
    "\n",
    "contingency_table"
   ]
  },
  {
   "cell_type": "code",
   "execution_count": 37,
   "metadata": {},
   "outputs": [
    {
     "name": "stdout",
     "output_type": "stream",
     "text": [
      "𝜒²-stat: 3.207763975155279\n",
      "p-value: 0.36068785972175865\n",
      "df: 3\n"
     ]
    }
   ],
   "source": [
    "chi2, p, dof, ex = chi2_contingency(contingency_table)\n",
    "print(f\"𝜒²-stat: {chi2}\\np-value: {p}\\ndf: {dof}\")"
   ]
  },
  {
   "cell_type": "markdown",
   "metadata": {},
   "source": [
    "## Histogram of Results"
   ]
  },
  {
   "cell_type": "markdown",
   "metadata": {},
   "source": [
    "Create bins for histogram, get the number of responses for the round in each bin (in groups only get one per group)."
   ]
  },
  {
   "cell_type": "markdown",
   "metadata": {},
   "source": [
    "**Round 1**"
   ]
  },
  {
   "cell_type": "code",
   "execution_count": 38,
   "metadata": {},
   "outputs": [],
   "source": [
    "bins = 10\n",
    "\n",
    "results_groups = []\n",
    "results_individuals = []\n",
    "labels = []\n",
    "\n",
    "for i in range(0, 101, bins):\n",
    "    lower_bound = i\n",
    "    upper_bound = i+bins-1\n",
    "    label = f\"{lower_bound} to {upper_bound}\"\n",
    "    labels.append(label)\n",
    "    groups_count = df[(df[\"Treatment\"] == \"G\") & (df[\"Final Answer Stage 1\"] >= lower_bound) & (df[\"Final Answer Stage 1\"] <= upper_bound)][\"ID\"].count()/3\n",
    "    individual_count = df[(df[\"Treatment\"] == \"I\") & (df[\"Final Answer Stage 1\"] >= lower_bound) & (df[\"Final Answer Stage 1\"] <= upper_bound)][\"ID\"].count()\n",
    "    results_groups.append(groups_count)\n",
    "    results_individuals.append(individual_count)\n",
    "\n",
    "labels[-1] = \"100\"\n",
    "\n",
    "merged_data = []\n",
    "for i in range(len(labels)):\n",
    "    data = [labels[i], results_individuals[i], results_groups[i]]\n",
    "    merged_data.append(data)\n",
    "\n",
    "histogram_df = pd.DataFrame(merged_data, columns=[\"Interval\", \"Individuals\", \"Groups\"])\n",
    "histogram_df = histogram_df.melt(value_vars=[\"Individuals\", \"Groups\"], id_vars=[\"Interval\"])"
   ]
  },
  {
   "cell_type": "code",
   "execution_count": 39,
   "metadata": {
    "jupyter": {
     "source_hidden": true
    }
   },
   "outputs": [
    {
     "data": {
      "image/png": "[encoded data removed]",
      "text/plain": [
       "<Figure size 1080x576 with 1 Axes>"
      ]
     },
     "metadata": {
      "needs_background": "dark"
     },
     "output_type": "display_data"
    }
   ],
   "source": [
    "fig, ax = plt.subplots(1, 1, figsize=(15, 8))\n",
    "\n",
    "sns.barplot(x=\"Interval\", y='value', hue='variable', data=histogram_df, ax=ax, palette=[colors[1], colors[0]])\n",
    "\n",
    "plt.legend([\"Groups\", \"Individuals\"])\n",
    "\n",
    "ax.set_title(\"Histogram of Answers (Stage 1)\", fontsize=26)\n",
    "ax.set_xlabel(\"Responses\", fontsize=20)\n",
    "ax.set_ylabel(\"Total Count\", fontsize=20)\n",
    "\n",
    "ax.spines['bottom'].set_color('white')\n",
    "ax.spines['top'].set_color('white') \n",
    "ax.spines['right'].set_color('white')\n",
    "ax.spines['left'].set_color('white')\n",
    "ax.tick_params(axis='x', colors='white')\n",
    "ax.tick_params(axis='y', colors='white')\n",
    "ax.yaxis.label.set_color('white')\n",
    "ax.xaxis.label.set_color('white')\n",
    "ax.title.set_color('white')\n",
    "ax.tick_params(axis='both', which='major', labelsize=15)\n",
    "\n",
    "h, l = ax.get_legend_handles_labels()\n",
    "ax.legend(h, [\"Individuals\", \"Groups\"], title=\"Treatments\")\n",
    "\n",
    "plt.savefig('histogram_answers_stage1.png', transparent=\"True\", pad_inches=0.2, bbox_inches='tight')\n",
    "\n",
    "plt.show()\n",
    "\n"
   ]
  },
  {
   "cell_type": "markdown",
   "metadata": {},
   "source": [
    "**Round 2**"
   ]
  },
  {
   "cell_type": "code",
   "execution_count": 40,
   "metadata": {},
   "outputs": [],
   "source": [
    "bins = 10\n",
    "\n",
    "results_groups = []\n",
    "results_individuals = []\n",
    "labels = []\n",
    "\n",
    "for i in range(0, 101, bins):\n",
    "    lower_bound = i\n",
    "    upper_bound = i+bins-1\n",
    "    label = f\"{lower_bound} to {upper_bound}\"\n",
    "    labels.append(label)\n",
    "    groups_count = df[(df[\"Treatment\"] == \"G\") & (df[\"Final Answer Stage 2\"] >= lower_bound) & (df[\"Final Answer Stage 2\"] <= upper_bound)][\"ID\"].count()/3\n",
    "    individual_count = df[(df[\"Treatment\"] == \"I\") & (df[\"Final Answer Stage 2\"] >= lower_bound) & (df[\"Final Answer Stage 2\"] <= upper_bound)][\"ID\"].count()\n",
    "    results_groups.append(groups_count)\n",
    "    results_individuals.append(individual_count)\n",
    "\n",
    "labels[-1] = \"100\"\n",
    "\n",
    "merged_data = []\n",
    "for i in range(len(labels)):\n",
    "    data = [labels[i], results_individuals[i], results_groups[i]]\n",
    "    merged_data.append(data)\n",
    "\n",
    "histogram_df = pd.DataFrame(merged_data, columns=[\"Interval\", \"Individuals\", \"Groups\"])\n",
    "histogram_df = histogram_df.melt(value_vars=[\"Individuals\", \"Groups\"], id_vars=[\"Interval\"])"
   ]
  },
  {
   "cell_type": "code",
   "execution_count": 41,
   "metadata": {
    "jupyter": {
     "source_hidden": true
    }
   },
   "outputs": [
    {
     "data": {
      "image/png": "[encoded data removed]",
      "text/plain": [
       "<Figure size 1080x576 with 1 Axes>"
      ]
     },
     "metadata": {
      "needs_background": "dark"
     },
     "output_type": "display_data"
    }
   ],
   "source": [
    "fig, ax = plt.subplots(1, 1, figsize=(15, 8))\n",
    "\n",
    "sns.barplot(x=\"Interval\", y='value', hue='variable', data=histogram_df, ax=ax, palette=[colors[1], colors[0]])\n",
    "\n",
    "plt.legend([\"Groups\", \"Individuals\"])\n",
    "\n",
    "ax.set_title(\"Histogram of Answers (Stage 2)\", fontsize=26)\n",
    "ax.set_xlabel(\"Responses\", fontsize=20)\n",
    "ax.set_ylabel(\"Total Count\", fontsize=20)\n",
    "\n",
    "ax.spines['bottom'].set_color('white')\n",
    "ax.spines['top'].set_color('white') \n",
    "ax.spines['right'].set_color('white')\n",
    "ax.spines['left'].set_color('white')\n",
    "ax.tick_params(axis='x', colors='white')\n",
    "ax.tick_params(axis='y', colors='white')\n",
    "ax.yaxis.label.set_color('white')\n",
    "ax.xaxis.label.set_color('white')\n",
    "ax.title.set_color('white')\n",
    "ax.tick_params(axis='both', which='major', labelsize=15)\n",
    "\n",
    "h, l = ax.get_legend_handles_labels()\n",
    "ax.legend(h, [\"Individuals\", \"Groups\"], title=\"Treatments\")\n",
    "\n",
    "plt.savefig('histogram_answers_stage2.png', transparent=\"True\", pad_inches=0.2, bbox_inches='tight')\n",
    "\n",
    "plt.show()\n",
    "\n"
   ]
  },
  {
   "cell_type": "markdown",
   "metadata": {},
   "source": [
    "**Round 3**"
   ]
  },
  {
   "cell_type": "code",
   "execution_count": 42,
   "metadata": {},
   "outputs": [],
   "source": [
    "bins = 10\n",
    "\n",
    "results_groups = []\n",
    "results_individuals = []\n",
    "labels = []\n",
    "\n",
    "for i in range(0, 101, bins):\n",
    "    lower_bound = i\n",
    "    upper_bound = i+bins-1\n",
    "    label = f\"{lower_bound} to {upper_bound}\"\n",
    "    labels.append(label)\n",
    "    groups_count = df[(df[\"Treatment\"] == \"G\") & (df[\"Final Answer Stage 3\"] >= lower_bound) & (df[\"Final Answer Stage 3\"] <= upper_bound)][\"ID\"].count()/3\n",
    "    individual_count = df[(df[\"Treatment\"] == \"I\") & (df[\"Final Answer Stage 3\"] >= lower_bound) & (df[\"Final Answer Stage 3\"] <= upper_bound)][\"ID\"].count()\n",
    "    results_groups.append(groups_count)\n",
    "    results_individuals.append(individual_count)\n",
    "\n",
    "labels[-1] = \"100\"\n",
    "\n",
    "merged_data = []\n",
    "for i in range(len(labels)):\n",
    "    data = [labels[i], results_individuals[i], results_groups[i]]\n",
    "    merged_data.append(data)\n",
    "\n",
    "histogram_df = pd.DataFrame(merged_data, columns=[\"Interval\", \"Individuals\", \"Groups\"])\n",
    "histogram_df = histogram_df.melt(value_vars=[\"Individuals\", \"Groups\"], id_vars=[\"Interval\"])"
   ]
  },
  {
   "cell_type": "code",
   "execution_count": 43,
   "metadata": {
    "jupyter": {
     "source_hidden": true
    }
   },
   "outputs": [
    {
     "data": {
      "image/png": "[encoded data removed]",
      "text/plain": [
       "<Figure size 1080x576 with 1 Axes>"
      ]
     },
     "metadata": {
      "needs_background": "dark"
     },
     "output_type": "display_data"
    }
   ],
   "source": [
    "fig, ax = plt.subplots(1, 1, figsize=(15, 8))\n",
    "\n",
    "sns.barplot(x=\"Interval\", y='value', hue='variable', data=histogram_df, ax=ax, palette=[colors[1], colors[0]])\n",
    "\n",
    "plt.legend([\"Groups\", \"Individuals\"])\n",
    "\n",
    "ax.set_title(\"Histogram of Answers (Stage 3)\", fontsize=26)\n",
    "ax.set_xlabel(\"Responses\", fontsize=20)\n",
    "ax.set_ylabel(\"Total Count\", fontsize=20)\n",
    "\n",
    "ax.spines['bottom'].set_color('white')\n",
    "ax.spines['top'].set_color('white') \n",
    "ax.spines['right'].set_color('white')\n",
    "ax.spines['left'].set_color('white')\n",
    "ax.tick_params(axis='x', colors='white')\n",
    "ax.tick_params(axis='y', colors='white')\n",
    "ax.yaxis.label.set_color('white')\n",
    "ax.xaxis.label.set_color('white')\n",
    "ax.title.set_color('white')\n",
    "ax.tick_params(axis='both', which='major', labelsize=15)\n",
    "\n",
    "h, l = ax.get_legend_handles_labels()\n",
    "ax.legend(h, [\"Individuals\", \"Groups\"], title=\"Treatments\")\n",
    "\n",
    "plt.savefig('histogram_answers_stage3.png', transparent=\"True\", pad_inches=0.2, bbox_inches='tight')\n",
    "\n",
    "plt.show()\n"
   ]
  },
  {
   "cell_type": "markdown",
   "metadata": {},
   "source": [
    "**Round 1**"
   ]
  },
  {
   "cell_type": "markdown",
   "metadata": {},
   "source": [
    "Test if responses for each round were different for each treatment"
   ]
  },
  {
   "cell_type": "code",
   "execution_count": 44,
   "metadata": {},
   "outputs": [],
   "source": [
    "sub_df = df[df[\"Treatment\"] == \"G\"]\n",
    "seats = sub_df[\"Seat\"].unique().tolist()\n",
    "\n",
    "x = []\n",
    "\n",
    "for seat in seats:\n",
    "    group_ans = sub_df[sub_df[\"Seat\"] == seat][\"Final Answer Stage 1\"].to_list()[0]\n",
    "    x.append(group_ans)\n",
    "\n",
    "y = df[df[\"Treatment\"] == \"I\"][\"Final Answer Stage 1\"].to_list()"
   ]
  },
  {
   "cell_type": "code",
   "execution_count": 45,
   "metadata": {},
   "outputs": [
    {
     "name": "stdout",
     "output_type": "stream",
     "text": [
      "U-stat: 90.5\n",
      "p-value: 0.0015818476253053298\n"
     ]
    }
   ],
   "source": [
    "u, p = mannwhitneyu(x, y)\n",
    "print(f\"U-stat: {u}\\np-value: {p}\")"
   ]
  },
  {
   "cell_type": "markdown",
   "metadata": {},
   "source": [
    "Test if responses for each treatment where different from zero"
   ]
  },
  {
   "cell_type": "code",
   "execution_count": 46,
   "metadata": {},
   "outputs": [
    {
     "name": "stdout",
     "output_type": "stream",
     "text": [
      "U-stat: 90.5\n",
      "p-value: 0.0015818476253053298\n"
     ]
    }
   ],
   "source": [
    "zeros = np.zeros(20).tolist()\n",
    "u, p = mannwhitneyu(x, y)\n",
    "print(f\"U-stat: {u}\\np-value: {p}\")"
   ]
  },
  {
   "cell_type": "code",
   "execution_count": 47,
   "metadata": {},
   "outputs": [
    {
     "name": "stdout",
     "output_type": "stream",
     "text": [
      "W-stat: 10.0\n",
      "p-value: 1.4908061610982427e-08\n"
     ]
    }
   ],
   "source": [
    "zeros = np.zeros(20).tolist()\n",
    "u, p = mannwhitneyu(y, zeros)\n",
    "print(f\"W-stat: {u}\\np-value: {p}\")"
   ]
  },
  {
   "cell_type": "markdown",
   "metadata": {},
   "source": [
    "Using t-test"
   ]
  },
  {
   "cell_type": "code",
   "execution_count": 48,
   "metadata": {},
   "outputs": [
    {
     "name": "stdout",
     "output_type": "stream",
     "text": [
      "t-stat: 5.09022425154778\n",
      "p-value: 6.50177057442766e-05\n"
     ]
    }
   ],
   "source": [
    "t, p = ttest_1samp(x, 0)\n",
    "print(f\"t-stat: {t}\\np-value: {p}\")"
   ]
  },
  {
   "cell_type": "code",
   "execution_count": 49,
   "metadata": {},
   "outputs": [
    {
     "name": "stdout",
     "output_type": "stream",
     "text": [
      "t-stat: 7.662755609813169\n",
      "p-value: 3.1583896201885087e-07\n"
     ]
    }
   ],
   "source": [
    "t, p = ttest_1samp(y, 0)\n",
    "print(f\"t-stat: {t}\\np-value: {p}\")"
   ]
  },
  {
   "cell_type": "markdown",
   "metadata": {},
   "source": [
    "**Round 2**"
   ]
  },
  {
   "cell_type": "code",
   "execution_count": 50,
   "metadata": {},
   "outputs": [],
   "source": [
    "sub_df = df[df[\"Treatment\"] == \"G\"]\n",
    "seats = sub_df[\"Seat\"].unique().tolist()\n",
    "\n",
    "x = []\n",
    "\n",
    "for seat in seats:\n",
    "    group_ans = sub_df[sub_df[\"Seat\"] == seat][\"Final Answer Stage 2\"].to_list()[0]\n",
    "    x.append(group_ans)"
   ]
  },
  {
   "cell_type": "code",
   "execution_count": 51,
   "metadata": {},
   "outputs": [],
   "source": [
    "y = df[df[\"Treatment\"] == \"I\"][\"Final Answer Stage 2\"].to_list()"
   ]
  },
  {
   "cell_type": "code",
   "execution_count": 52,
   "metadata": {},
   "outputs": [
    {
     "name": "stdout",
     "output_type": "stream",
     "text": [
      "U-stat: 76.0\n",
      "p-value: 0.0004031811106233999\n"
     ]
    }
   ],
   "source": [
    "u, p = mannwhitneyu(x, y)\n",
    "print(f\"U-stat: {u}\\np-value: {p}\")"
   ]
  },
  {
   "cell_type": "markdown",
   "metadata": {},
   "source": [
    "Test if responses for each treatment where different from zero"
   ]
  },
  {
   "cell_type": "code",
   "execution_count": 53,
   "metadata": {},
   "outputs": [
    {
     "name": "stdout",
     "output_type": "stream",
     "text": [
      "U-stat: 50.0\n",
      "p-value: 1.6515114075603853e-06\n"
     ]
    }
   ],
   "source": [
    "zeros = np.zeros(20).tolist()\n",
    "u, p = mannwhitneyu(x, zeros)\n",
    "print(f\"U-stat: {u}\\np-value: {p}\")"
   ]
  },
  {
   "cell_type": "code",
   "execution_count": 54,
   "metadata": {},
   "outputs": [
    {
     "name": "stdout",
     "output_type": "stream",
     "text": [
      "U-stat: 20.0\n",
      "p-value: 5.259344238138618e-08\n"
     ]
    }
   ],
   "source": [
    "zeros = np.zeros(20).tolist()\n",
    "u, p = mannwhitneyu(y, zeros)\n",
    "print(f\"U-stat: {u}\\np-value: {p}\")"
   ]
  },
  {
   "cell_type": "markdown",
   "metadata": {},
   "source": [
    "Using t-test"
   ]
  },
  {
   "cell_type": "code",
   "execution_count": 55,
   "metadata": {},
   "outputs": [
    {
     "name": "stdout",
     "output_type": "stream",
     "text": [
      "t-stat: 4.015973489349137\n",
      "p-value: 0.0007387400418842687\n"
     ]
    }
   ],
   "source": [
    "t, p = ttest_1samp(x, 0)\n",
    "print(f\"t-stat: {t}\\np-value: {p}\")"
   ]
  },
  {
   "cell_type": "code",
   "execution_count": 56,
   "metadata": {},
   "outputs": [
    {
     "name": "stdout",
     "output_type": "stream",
     "text": [
      "t-stat: 6.446034751724916\n",
      "p-value: 3.528341799294264e-06\n"
     ]
    }
   ],
   "source": [
    "t, p = ttest_1samp(y, 0)\n",
    "print(f\"t-stat: {t}\\np-value: {p}\")"
   ]
  },
  {
   "cell_type": "markdown",
   "metadata": {},
   "source": [
    "**Round 3**"
   ]
  },
  {
   "cell_type": "code",
   "execution_count": 57,
   "metadata": {},
   "outputs": [],
   "source": [
    "sub_df = df[df[\"Treatment\"] == \"G\"]\n",
    "seats = sub_df[\"Seat\"].unique().tolist()\n",
    "\n",
    "x = []\n",
    "\n",
    "for seat in seats:\n",
    "    group_ans = sub_df[sub_df[\"Seat\"] == seat][\"Final Answer Stage 3\"].to_list()[0]\n",
    "    x.append(group_ans)\n",
    "\n",
    "y = df[df[\"Treatment\"] == \"I\"][\"Final Answer Stage 3\"].to_list()"
   ]
  },
  {
   "cell_type": "code",
   "execution_count": 58,
   "metadata": {},
   "outputs": [
    {
     "name": "stdout",
     "output_type": "stream",
     "text": [
      "U-stat: 59.0\n",
      "p-value: 6.35211685174059e-05\n"
     ]
    }
   ],
   "source": [
    "u, p = mannwhitneyu(x, y)\n",
    "print(f\"U-stat: {u}\\np-value: {p}\")"
   ]
  },
  {
   "cell_type": "markdown",
   "metadata": {},
   "source": [
    "Test if responses for each treatment where different from zero"
   ]
  },
  {
   "cell_type": "code",
   "execution_count": 59,
   "metadata": {},
   "outputs": [
    {
     "name": "stdout",
     "output_type": "stream",
     "text": [
      "U-stat: 70.0\n",
      "p-value: 1.2764813288999263e-05\n"
     ]
    }
   ],
   "source": [
    "zeros = np.zeros(20).tolist()\n",
    "u, p = mannwhitneyu(x, zeros)\n",
    "print(f\"U-stat: {u}\\np-value: {p}\")"
   ]
  },
  {
   "cell_type": "code",
   "execution_count": 60,
   "metadata": {},
   "outputs": [
    {
     "name": "stdout",
     "output_type": "stream",
     "text": [
      "U-stat: 30.0\n",
      "p-value: 1.739148920693556e-07\n"
     ]
    }
   ],
   "source": [
    "zeros = np.zeros(20).tolist()\n",
    "u, p = mannwhitneyu(y, zeros)\n",
    "print(f\"U-stat: {u}\\np-value: {p}\")"
   ]
  },
  {
   "cell_type": "markdown",
   "metadata": {},
   "source": [
    "Using t-test"
   ]
  },
  {
   "cell_type": "code",
   "execution_count": 61,
   "metadata": {},
   "outputs": [
    {
     "name": "stdout",
     "output_type": "stream",
     "text": [
      "t-stat: 3.6497748991723467\n",
      "p-value: 0.0017040073798565384\n"
     ]
    }
   ],
   "source": [
    "t, p = ttest_1samp(x, 0)\n",
    "print(f\"t-stat: {t}\\np-value: {p}\")"
   ]
  },
  {
   "cell_type": "code",
   "execution_count": 62,
   "metadata": {},
   "outputs": [
    {
     "name": "stdout",
     "output_type": "stream",
     "text": [
      "t-stat: 3.2343043454825717\n",
      "p-value: 0.004364951935981083\n"
     ]
    }
   ],
   "source": [
    "t, p = ttest_1samp(y, 0)\n",
    "print(f\"t-stat: {t}\\np-value: {p}\")"
   ]
  },
  {
   "cell_type": "markdown",
   "metadata": {},
   "source": [
    "### Evolution of the Average Response"
   ]
  },
  {
   "cell_type": "markdown",
   "metadata": {},
   "source": [
    "We want to understand how the average response changed over time (over each round)"
   ]
  },
  {
   "cell_type": "code",
   "execution_count": 63,
   "metadata": {},
   "outputs": [],
   "source": [
    "means_groups = []\n",
    "means_individuals = []\n",
    "labels = []\n",
    "\n",
    "for i in range(1, 4):\n",
    "    label = f\"Round {i}\"\n",
    "    labels.append(label)\n",
    "    means = df.groupby(\"Treatment\")[f\"Final Answer Stage {i}\"].mean()\n",
    "    means_groups.append(means[\"G\"])\n",
    "    means_individuals.append(means[\"I\"])\n",
    "\n",
    "\n",
    "merged_means = []\n",
    "for i in range(len(labels)):\n",
    "    data = [labels[i], means_individuals[i], means_groups[i]]\n",
    "    merged_means.append(data)\n",
    "\n",
    "means_df = pd.DataFrame(merged_means, columns=[\"Round\", \"Individuals\", \"Groups\"])\n",
    "means_df = means_df.melt(value_vars=[\"Individuals\", \"Groups\"], id_vars=[\"Round\"])"
   ]
  },
  {
   "cell_type": "code",
   "execution_count": 64,
   "metadata": {},
   "outputs": [
    {
     "data": {
      "text/html": [
       "<div>\n",
       "<style scoped>\n",
       "    .dataframe tbody tr th:only-of-type {\n",
       "        vertical-align: middle;\n",
       "    }\n",
       "\n",
       "    .dataframe tbody tr th {\n",
       "        vertical-align: top;\n",
       "    }\n",
       "\n",
       "    .dataframe thead th {\n",
       "        text-align: right;\n",
       "    }\n",
       "</style>\n",
       "<table border=\"1\" class=\"dataframe\">\n",
       "  <thead>\n",
       "    <tr style=\"text-align: right;\">\n",
       "      <th></th>\n",
       "      <th>Round</th>\n",
       "      <th>variable</th>\n",
       "      <th>value</th>\n",
       "    </tr>\n",
       "  </thead>\n",
       "  <tbody>\n",
       "    <tr>\n",
       "      <th>0</th>\n",
       "      <td>Round 1</td>\n",
       "      <td>Individuals</td>\n",
       "      <td>41.28315</td>\n",
       "    </tr>\n",
       "    <tr>\n",
       "      <th>1</th>\n",
       "      <td>Round 2</td>\n",
       "      <td>Individuals</td>\n",
       "      <td>22.74000</td>\n",
       "    </tr>\n",
       "    <tr>\n",
       "      <th>2</th>\n",
       "      <td>Round 3</td>\n",
       "      <td>Individuals</td>\n",
       "      <td>14.95070</td>\n",
       "    </tr>\n",
       "    <tr>\n",
       "      <th>3</th>\n",
       "      <td>Round 1</td>\n",
       "      <td>Groups</td>\n",
       "      <td>24.58000</td>\n",
       "    </tr>\n",
       "    <tr>\n",
       "      <th>4</th>\n",
       "      <td>Round 2</td>\n",
       "      <td>Groups</td>\n",
       "      <td>7.40750</td>\n",
       "    </tr>\n",
       "    <tr>\n",
       "      <th>5</th>\n",
       "      <td>Round 3</td>\n",
       "      <td>Groups</td>\n",
       "      <td>1.06950</td>\n",
       "    </tr>\n",
       "  </tbody>\n",
       "</table>\n",
       "</div>"
      ],
      "text/plain": [
       "     Round     variable     value\n",
       "0  Round 1  Individuals  41.28315\n",
       "1  Round 2  Individuals  22.74000\n",
       "2  Round 3  Individuals  14.95070\n",
       "3  Round 1       Groups  24.58000\n",
       "4  Round 2       Groups   7.40750\n",
       "5  Round 3       Groups   1.06950"
      ]
     },
     "execution_count": 64,
     "metadata": {},
     "output_type": "execute_result"
    }
   ],
   "source": [
    "means_df"
   ]
  },
  {
   "cell_type": "code",
   "execution_count": 65,
   "metadata": {
    "jupyter": {
     "source_hidden": true
    }
   },
   "outputs": [
    {
     "data": {
      "image/png": "[encoded data removed]",
      "text/plain": [
       "<Figure size 1080x576 with 1 Axes>"
      ]
     },
     "metadata": {
      "needs_background": "dark"
     },
     "output_type": "display_data"
    }
   ],
   "source": [
    "fig, ax = plt.subplots(1, 1, figsize=(15, 8))\n",
    "\n",
    "sns.pointplot(x=\"Round\", y='value', hue='variable', data=means_df, ax=ax, palette=[colors[1], colors[0]])\n",
    "\n",
    "plt.legend([\"Groups\", \"Individuals\"])\n",
    "\n",
    "ax.set_title(\"Evolution of Mean Response\", fontsize=26)\n",
    "ax.set_xlabel(\"\", fontsize=20)\n",
    "ax.set_ylabel(\"Average Response\", fontsize=20)\n",
    "\n",
    "ax.spines['bottom'].set_color('white')\n",
    "ax.spines['top'].set_color('white') \n",
    "ax.spines['right'].set_color('white')\n",
    "ax.spines['left'].set_color('white')\n",
    "ax.tick_params(axis='x', colors='white')\n",
    "ax.tick_params(axis='y', colors='white')\n",
    "ax.yaxis.label.set_color('white')\n",
    "ax.xaxis.label.set_color('white')\n",
    "ax.title.set_color('white')\n",
    "ax.tick_params(axis='both', which='major', labelsize=15)\n",
    "\n",
    "h, l = ax.get_legend_handles_labels()\n",
    "ax.legend(h, [\"Individuals\", \"Groups\"], title=\"Treatments\")\n",
    "\n",
    "plt.savefig('means_progression.png', transparent=\"True\", pad_inches=0.2, bbox_inches='tight')\n",
    "\n",
    "plt.show()\n",
    "\n",
    "\n",
    "\n",
    "\n",
    "\n"
   ]
  },
  {
   "cell_type": "markdown",
   "metadata": {},
   "source": [
    "### Distance to Target\n",
    "\n",
    "In the following lines, we calculate the individual's (for both treatments) distance to the target. To do so, we first calculate the target for each treatment, for each market, for each round. This target is, as defined for this experiment, the average of the submissions for the market multiplied by $p=\\frac{2}{3}$"
   ]
  },
  {
   "cell_type": "code",
   "execution_count": 66,
   "metadata": {},
   "outputs": [],
   "source": [
    "results = {}\n",
    "rounds = 3\n",
    "\n",
    "treatments = df[\"Treatment\"].unique().tolist()\n",
    "for treatment in treatments:\n",
    "    results[treatment] = {}\n",
    "    treat_df = df[df[\"Treatment\"] == treatment]\n",
    "    markets = treat_df[\"Market\"].unique().tolist()\n",
    "    for market in markets:\n",
    "        for i in range(1, rounds+1):\n",
    "            target = treat_df[treat_df[\"Market\"] == market][f\"Final Answer Stage {i}\"].mean() * 2/3\n",
    "            results[treatment][market] = target\n",
    "            df.loc[(df[\"Treatment\"] == treatment) & (df[\"Market\"] == market), f\"Target Stage {i}\"] = target\n",
    "\n",
    "for i in range(1, rounds+1):\n",
    "    df[f\"Individual Distance Target Stage {i}\"] = abs(df[f\"Individual Answer Stage {i}\"] - df[f\"Target Stage {i}\"])"
   ]
  },
  {
   "cell_type": "markdown",
   "metadata": {},
   "source": [
    "### Distance to Target vs. Experience"
   ]
  },
  {
   "cell_type": "markdown",
   "metadata": {},
   "source": [
    "#### Round 1"
   ]
  },
  {
   "cell_type": "code",
   "execution_count": 67,
   "metadata": {
    "jupyter": {
     "source_hidden": true
    }
   },
   "outputs": [
    {
     "data": {
      "image/png": "[encoded data removed]",
      "text/plain": [
       "<Figure size 1152x720 with 1 Axes>"
      ]
     },
     "metadata": {
      "needs_background": "dark"
     },
     "output_type": "display_data"
    }
   ],
   "source": [
    "fig, ax = plt.subplots(1, 1, figsize=(16, 10))\n",
    "\n",
    "df.groupby(\"Experience\")[\"Individual Distance Target Stage 1\"].mean().plot(kind=\"bar\", ax=ax, color=colors)\n",
    "\n",
    "ax.set_title(\"Average Distance to Target by Experience (Stage 1)\\n\", fontsize=26)\n",
    "ax.set_xlabel(\"Experience\", fontsize=20)\n",
    "ax.set_ylabel(\"Average Distance to Target\\n\", fontsize=20)\n",
    "plt.xticks(rotation=0)\n",
    "\n",
    "ax.spines['bottom'].set_color('white')\n",
    "ax.spines['top'].set_color('white') \n",
    "ax.spines['right'].set_color('white')\n",
    "ax.spines['left'].set_color('white')\n",
    "ax.tick_params(axis='x', colors='white')\n",
    "ax.tick_params(axis='y', colors='white')\n",
    "ax.yaxis.label.set_color('white')\n",
    "ax.xaxis.label.set_color('white')\n",
    "ax.title.set_color('white')\n",
    "ax.tick_params(axis='both', which='major', labelsize=16)\n",
    "ax.set_ylim(0, 25)\n",
    "\n",
    "plt.savefig('avg_distance_experience_stage1.png', transparent=\"True\")\n",
    "\n",
    "plt.show()"
   ]
  },
  {
   "cell_type": "code",
   "execution_count": 68,
   "metadata": {},
   "outputs": [],
   "source": [
    "x = df[df[\"Experience\"] == \"Yes\"][\"Individual Distance Target Stage 1\"].to_list()\n",
    "y = df[df[\"Experience\"] == \"No\"][\"Individual Distance Target Stage 1\"].to_list()"
   ]
  },
  {
   "cell_type": "code",
   "execution_count": 69,
   "metadata": {},
   "outputs": [
    {
     "name": "stdout",
     "output_type": "stream",
     "text": [
      "U-stat: 412.5\n",
      "p-value: 0.25597672273758715\n"
     ]
    }
   ],
   "source": [
    "u, p = mannwhitneyu(x, y)\n",
    "print(f\"U-stat: {u}\\np-value: {p}\")"
   ]
  },
  {
   "cell_type": "markdown",
   "metadata": {},
   "source": [
    "#### Round 2"
   ]
  },
  {
   "cell_type": "code",
   "execution_count": 70,
   "metadata": {
    "jupyter": {
     "source_hidden": true
    }
   },
   "outputs": [
    {
     "data": {
      "image/png": "[encoded data removed]",
      "text/plain": [
       "<Figure size 1152x720 with 1 Axes>"
      ]
     },
     "metadata": {
      "needs_background": "dark"
     },
     "output_type": "display_data"
    }
   ],
   "source": [
    "fig, ax = plt.subplots(1, 1, figsize=(16, 10))\n",
    "\n",
    "df.groupby(\"Experience\")[\"Individual Distance Target Stage 2\"].mean().plot(kind=\"bar\", ax=ax, color=colors)\n",
    "\n",
    "ax.set_title(\"Average Distance to Target by Experience (Stage 2)\\n\", fontsize=26)\n",
    "ax.set_xlabel(\"Experience\", fontsize=20)\n",
    "ax.set_ylabel(\"Average Distance to Target\\n\", fontsize=20)\n",
    "plt.xticks(rotation=0)\n",
    "\n",
    "ax.spines['bottom'].set_color('white')\n",
    "ax.spines['top'].set_color('white') \n",
    "ax.spines['right'].set_color('white')\n",
    "ax.spines['left'].set_color('white')\n",
    "ax.tick_params(axis='x', colors='white')\n",
    "ax.tick_params(axis='y', colors='white')\n",
    "ax.yaxis.label.set_color('white')\n",
    "ax.xaxis.label.set_color('white')\n",
    "ax.title.set_color('white')\n",
    "ax.tick_params(axis='both', which='major', labelsize=16)\n",
    "ax.set_ylim(0, 25)\n",
    "\n",
    "plt.savefig('avg_distance_experience_stage2.png', transparent=\"True\")\n",
    "\n",
    "plt.show()"
   ]
  },
  {
   "cell_type": "code",
   "execution_count": 71,
   "metadata": {},
   "outputs": [],
   "source": [
    "x = df[df[\"Experience\"] == \"Yes\"][\"Individual Distance Target Stage 2\"].to_list()\n",
    "y = df[df[\"Experience\"] == \"No\"][\"Individual Distance Target Stage 2\"].to_list()"
   ]
  },
  {
   "cell_type": "code",
   "execution_count": 72,
   "metadata": {},
   "outputs": [
    {
     "name": "stdout",
     "output_type": "stream",
     "text": [
      "U-stat: 415.5\n",
      "p-value: 0.2695407875572563\n"
     ]
    }
   ],
   "source": [
    "u, p = mannwhitneyu(x, y)\n",
    "print(f\"U-stat: {u}\\np-value: {p}\")"
   ]
  },
  {
   "cell_type": "markdown",
   "metadata": {},
   "source": [
    "#### Round 3"
   ]
  },
  {
   "cell_type": "code",
   "execution_count": 73,
   "metadata": {
    "jupyter": {
     "source_hidden": true
    }
   },
   "outputs": [
    {
     "data": {
      "image/png": "[encoded data removed]",
      "text/plain": [
       "<Figure size 1152x720 with 1 Axes>"
      ]
     },
     "metadata": {
      "needs_background": "dark"
     },
     "output_type": "display_data"
    }
   ],
   "source": [
    "fig, ax = plt.subplots(1, 1, figsize=(16, 10))\n",
    "\n",
    "df.groupby(\"Experience\")[\"Individual Distance Target Stage 3\"].mean().plot(kind=\"bar\", ax=ax, color=colors)\n",
    "\n",
    "ax.set_title(\"Average Distance to Target by Experience (Stage 3)\\n\", fontsize=26)\n",
    "ax.set_xlabel(\"Experience\", fontsize=20)\n",
    "ax.set_ylabel(\"Average Distance to Target\\n\", fontsize=20)\n",
    "plt.xticks(rotation=0)\n",
    "\n",
    "ax.spines['bottom'].set_color('white')\n",
    "ax.spines['top'].set_color('white') \n",
    "ax.spines['right'].set_color('white')\n",
    "ax.spines['left'].set_color('white')\n",
    "ax.tick_params(axis='x', colors='white')\n",
    "ax.tick_params(axis='y', colors='white')\n",
    "ax.yaxis.label.set_color('white')\n",
    "ax.xaxis.label.set_color('white')\n",
    "ax.title.set_color('white')\n",
    "ax.tick_params(axis='both', which='major', labelsize=16)\n",
    "ax.set_ylim(0, 25)\n",
    "\n",
    "plt.savefig('avg_distance_experience_stage3.png', transparent=\"True\")\n",
    "\n",
    "plt.show()"
   ]
  },
  {
   "cell_type": "code",
   "execution_count": 74,
   "metadata": {},
   "outputs": [],
   "source": [
    "x = df[df[\"Experience\"] == \"Yes\"][\"Individual Distance Target Stage 3\"].to_list()\n",
    "y = df[df[\"Experience\"] == \"No\"][\"Individual Distance Target Stage 3\"].to_list()"
   ]
  },
  {
   "cell_type": "code",
   "execution_count": 75,
   "metadata": {},
   "outputs": [
    {
     "name": "stdout",
     "output_type": "stream",
     "text": [
      "U-stat: 427.0\n",
      "p-value: 0.32479648840939274\n"
     ]
    }
   ],
   "source": [
    "u, p = mannwhitneyu(x, y)\n",
    "print(f\"U-stat: {u}\\np-value: {p}\")"
   ]
  },
  {
   "cell_type": "markdown",
   "metadata": {},
   "source": [
    "### Distance to Target vs. Skill Level"
   ]
  },
  {
   "cell_type": "markdown",
   "metadata": {},
   "source": [
    "#### Round 1"
   ]
  },
  {
   "cell_type": "code",
   "execution_count": 76,
   "metadata": {
    "jupyter": {
     "source_hidden": true
    }
   },
   "outputs": [
    {
     "data": {
      "image/png": "[encoded data removed]",
      "text/plain": [
       "<Figure size 1152x720 with 1 Axes>"
      ]
     },
     "metadata": {
      "needs_background": "dark"
     },
     "output_type": "display_data"
    }
   ],
   "source": [
    "fig, ax = plt.subplots(1, 1, figsize=(16, 10))\n",
    "\n",
    "df.groupby(\"Skills\")[\"Individual Distance Target Stage 1\"].mean().plot(kind=\"bar\", ax=ax, color=colors)\n",
    "\n",
    "ax.set_title(\"Average Distance to Target by Skill Level (Stage 1)\\n\", fontsize=26)\n",
    "ax.set_xlabel(\"Skill Level\", fontsize=20)\n",
    "ax.set_ylabel(\"Average Distance to Target\\n\", fontsize=20)\n",
    "plt.xticks(rotation=0)\n",
    "\n",
    "ax.spines['bottom'].set_color('white')\n",
    "ax.spines['top'].set_color('white') \n",
    "ax.spines['right'].set_color('white')\n",
    "ax.spines['left'].set_color('white')\n",
    "ax.tick_params(axis='x', colors='white')\n",
    "ax.tick_params(axis='y', colors='white')\n",
    "ax.yaxis.label.set_color('white')\n",
    "ax.xaxis.label.set_color('white')\n",
    "ax.title.set_color('white')\n",
    "ax.tick_params(axis='both', which='major', labelsize=16)\n",
    "ax.set_ylim(0, 30)\n",
    "\n",
    "plt.savefig('avg_distance_skills_stage1.png', transparent=\"True\")\n",
    "\n",
    "plt.show()"
   ]
  },
  {
   "cell_type": "markdown",
   "metadata": {},
   "source": [
    "#### Round 2"
   ]
  },
  {
   "cell_type": "code",
   "execution_count": 77,
   "metadata": {
    "jupyter": {
     "source_hidden": true
    }
   },
   "outputs": [
    {
     "data": {
      "image/png": "[encoded data removed]",
      "text/plain": [
       "<Figure size 1152x720 with 1 Axes>"
      ]
     },
     "metadata": {
      "needs_background": "dark"
     },
     "output_type": "display_data"
    }
   ],
   "source": [
    "fig, ax = plt.subplots(1, 1, figsize=(16, 10))\n",
    "\n",
    "df.groupby(\"Skills\")[\"Individual Distance Target Stage 2\"].mean().plot(kind=\"bar\", ax=ax, color=colors)\n",
    "\n",
    "ax.set_title(\"Average Distance to Target by Skill Level (Stage 2)\\n\", fontsize=26)\n",
    "ax.set_xlabel(\"Skill Level\", fontsize=20)\n",
    "ax.set_ylabel(\"Average Distance to Target\\n\", fontsize=20)\n",
    "plt.xticks(rotation=0)\n",
    "\n",
    "ax.spines['bottom'].set_color('white')\n",
    "ax.spines['top'].set_color('white') \n",
    "ax.spines['right'].set_color('white')\n",
    "ax.spines['left'].set_color('white')\n",
    "ax.tick_params(axis='x', colors='white')\n",
    "ax.tick_params(axis='y', colors='white')\n",
    "ax.yaxis.label.set_color('white')\n",
    "ax.xaxis.label.set_color('white')\n",
    "ax.title.set_color('white')\n",
    "ax.tick_params(axis='both', which='major', labelsize=16)\n",
    "ax.set_ylim(0, 30)\n",
    "\n",
    "plt.savefig('avg_distance_skills_stage2.png', transparent=\"True\")\n",
    "\n",
    "plt.show()"
   ]
  },
  {
   "cell_type": "markdown",
   "metadata": {},
   "source": [
    "#### Round 3"
   ]
  },
  {
   "cell_type": "code",
   "execution_count": 78,
   "metadata": {
    "jupyter": {
     "source_hidden": true
    }
   },
   "outputs": [
    {
     "data": {
      "image/png": "[encoded data removed]",
      "text/plain": [
       "<Figure size 1152x720 with 1 Axes>"
      ]
     },
     "metadata": {
      "needs_background": "dark"
     },
     "output_type": "display_data"
    }
   ],
   "source": [
    "fig, ax = plt.subplots(1, 1, figsize=(16, 10))\n",
    "\n",
    "df.groupby(\"Skills\")[\"Individual Distance Target Stage 3\"].mean().plot(kind=\"bar\", ax=ax, color=colors)\n",
    "\n",
    "ax.set_title(\"Average Distance to Target by Skill Level (Stage 3)\\n\", fontsize=26)\n",
    "ax.set_xlabel(\"Skill Level\", fontsize=20)\n",
    "ax.set_ylabel(\"Average Distance to Target\\n\", fontsize=20)\n",
    "plt.xticks(rotation=0)\n",
    "\n",
    "ax.spines['bottom'].set_color('white')\n",
    "ax.spines['top'].set_color('white') \n",
    "ax.spines['right'].set_color('white')\n",
    "ax.spines['left'].set_color('white')\n",
    "ax.tick_params(axis='x', colors='white')\n",
    "ax.tick_params(axis='y', colors='white')\n",
    "ax.yaxis.label.set_color('white')\n",
    "ax.xaxis.label.set_color('white')\n",
    "ax.title.set_color('white')\n",
    "ax.tick_params(axis='both', which='major', labelsize=16)\n",
    "ax.set_ylim(0, 30)\n",
    "\n",
    "plt.savefig('avg_distance_skills_stage3.png', transparent=\"True\")\n",
    "\n",
    "plt.show()"
   ]
  },
  {
   "cell_type": "markdown",
   "metadata": {},
   "source": [
    "#### Round 1"
   ]
  },
  {
   "cell_type": "markdown",
   "metadata": {},
   "source": [
    "**Skill 1 vs. Skill 4**"
   ]
  },
  {
   "cell_type": "code",
   "execution_count": 79,
   "metadata": {},
   "outputs": [],
   "source": [
    "x = df[df[\"Skills\"] == 1][\"Individual Distance Target Stage 1\"]\n",
    "y = df[df[\"Skills\"] == 4][\"Individual Distance Target Stage 1\"]"
   ]
  },
  {
   "cell_type": "code",
   "execution_count": 80,
   "metadata": {},
   "outputs": [
    {
     "name": "stdout",
     "output_type": "stream",
     "text": [
      "U-stat: 10.0\n",
      "p-value: 0.06680720126885807\n"
     ]
    }
   ],
   "source": [
    "u, p = mannwhitneyu(x, y)\n",
    "print(f\"U-stat: {u}\\np-value: {p}\")"
   ]
  },
  {
   "cell_type": "markdown",
   "metadata": {},
   "source": [
    "**Skill 3 vs. Skill 4**"
   ]
  },
  {
   "cell_type": "code",
   "execution_count": 81,
   "metadata": {},
   "outputs": [],
   "source": [
    "x = df[df[\"Skills\"] == 3][\"Individual Distance Target Stage 1\"]\n",
    "y = df[df[\"Skills\"] == 4][\"Individual Distance Target Stage 1\"]"
   ]
  },
  {
   "cell_type": "code",
   "execution_count": 82,
   "metadata": {},
   "outputs": [
    {
     "name": "stdout",
     "output_type": "stream",
     "text": [
      "U-stat: 63.0\n",
      "p-value: 0.1771797667256096\n"
     ]
    }
   ],
   "source": [
    "u, p = mannwhitneyu(x, y)\n",
    "print(f\"U-stat: {u}\\np-value: {p}\")"
   ]
  },
  {
   "cell_type": "markdown",
   "metadata": {},
   "source": [
    "#### Round 2"
   ]
  },
  {
   "cell_type": "markdown",
   "metadata": {},
   "source": [
    "**Skill 1 vs. Skill 4**"
   ]
  },
  {
   "cell_type": "code",
   "execution_count": 83,
   "metadata": {},
   "outputs": [],
   "source": [
    "x = df[df[\"Skills\"] == 1][\"Individual Distance Target Stage 2\"]\n",
    "y = df[df[\"Skills\"] == 4][\"Individual Distance Target Stage 2\"]"
   ]
  },
  {
   "cell_type": "code",
   "execution_count": 84,
   "metadata": {},
   "outputs": [
    {
     "name": "stdout",
     "output_type": "stream",
     "text": [
      "U-stat: 7.0\n",
      "p-value: 0.02689204443119914\n"
     ]
    }
   ],
   "source": [
    "u, p = mannwhitneyu(x, y)\n",
    "print(f\"U-stat: {u}\\np-value: {p}\")"
   ]
  },
  {
   "cell_type": "markdown",
   "metadata": {},
   "source": [
    "**Skill 3 vs. Skill 4**"
   ]
  },
  {
   "cell_type": "code",
   "execution_count": 85,
   "metadata": {},
   "outputs": [],
   "source": [
    "x = df[df[\"Skills\"] == 3][\"Individual Distance Target Stage 2\"]\n",
    "y = df[df[\"Skills\"] == 4][\"Individual Distance Target Stage 2\"]"
   ]
  },
  {
   "cell_type": "code",
   "execution_count": 86,
   "metadata": {},
   "outputs": [
    {
     "name": "stdout",
     "output_type": "stream",
     "text": [
      "U-stat: 41.0\n",
      "p-value: 0.02729292840289088\n"
     ]
    }
   ],
   "source": [
    "u, p = mannwhitneyu(x, y)\n",
    "print(f\"U-stat: {u}\\np-value: {p}\")"
   ]
  },
  {
   "cell_type": "markdown",
   "metadata": {},
   "source": [
    "#### Round 3"
   ]
  },
  {
   "cell_type": "markdown",
   "metadata": {},
   "source": [
    "**Skill 1 vs. Skill 4**"
   ]
  },
  {
   "cell_type": "code",
   "execution_count": 87,
   "metadata": {},
   "outputs": [],
   "source": [
    "x = df[df[\"Skills\"] == 1][\"Individual Distance Target Stage 3\"]\n",
    "y = df[df[\"Skills\"] == 4][\"Individual Distance Target Stage 3\"]"
   ]
  },
  {
   "cell_type": "code",
   "execution_count": 88,
   "metadata": {},
   "outputs": [
    {
     "name": "stdout",
     "output_type": "stream",
     "text": [
      "U-stat: 13.0\n",
      "p-value: 0.14132525106865657\n"
     ]
    }
   ],
   "source": [
    "u, p = mannwhitneyu(x, y)\n",
    "print(f\"U-stat: {u}\\np-value: {p}\")"
   ]
  },
  {
   "cell_type": "markdown",
   "metadata": {},
   "source": [
    "**Skill 3 vs. Skill 4**"
   ]
  },
  {
   "cell_type": "code",
   "execution_count": 89,
   "metadata": {},
   "outputs": [],
   "source": [
    "x = df[df[\"Skills\"] == 3][\"Individual Distance Target Stage 3\"]\n",
    "y = df[df[\"Skills\"] == 4][\"Individual Distance Target Stage 3\"]"
   ]
  },
  {
   "cell_type": "code",
   "execution_count": 90,
   "metadata": {},
   "outputs": [
    {
     "name": "stdout",
     "output_type": "stream",
     "text": [
      "U-stat: 64.5\n",
      "p-value: 0.19464620647497732\n"
     ]
    }
   ],
   "source": [
    "u, p = mannwhitneyu(x, y)\n",
    "print(f\"U-stat: {u}\\np-value: {p}\")"
   ]
  },
  {
   "cell_type": "markdown",
   "metadata": {},
   "source": [
    "### Distance to Target (Final Answer)"
   ]
  },
  {
   "cell_type": "markdown",
   "metadata": {},
   "source": [
    "Previously, we took a look at individual answer and its distance to the target. Here we will calculate the distance to target using the final answer (group decision for the groups treatment)"
   ]
  },
  {
   "cell_type": "code",
   "execution_count": 91,
   "metadata": {},
   "outputs": [
    {
     "data": {
      "text/html": [
       "<div>\n",
       "<style scoped>\n",
       "    .dataframe tbody tr th:only-of-type {\n",
       "        vertical-align: middle;\n",
       "    }\n",
       "\n",
       "    .dataframe tbody tr th {\n",
       "        vertical-align: top;\n",
       "    }\n",
       "\n",
       "    .dataframe thead th {\n",
       "        text-align: right;\n",
       "    }\n",
       "</style>\n",
       "<table border=\"1\" class=\"dataframe\">\n",
       "  <thead>\n",
       "    <tr style=\"text-align: right;\">\n",
       "      <th></th>\n",
       "      <th>Final Answer Stage 1</th>\n",
       "      <th>Target Stage 1</th>\n",
       "      <th>Final Distance Target Stage 1</th>\n",
       "      <th>Final Answer Stage 2</th>\n",
       "      <th>Target Stage 2</th>\n",
       "      <th>Final Distance Target Stage 2</th>\n",
       "      <th>Final Answer Stage 3</th>\n",
       "      <th>Target Stage 3</th>\n",
       "      <th>Final Distance Target Stage 3</th>\n",
       "    </tr>\n",
       "  </thead>\n",
       "  <tbody>\n",
       "    <tr>\n",
       "      <th>0</th>\n",
       "      <td>37.0</td>\n",
       "      <td>13.146667</td>\n",
       "      <td>23.853333</td>\n",
       "      <td>26.0</td>\n",
       "      <td>6.146667</td>\n",
       "      <td>19.853333</td>\n",
       "      <td>2.00</td>\n",
       "      <td>1.350667</td>\n",
       "      <td>0.649333</td>\n",
       "    </tr>\n",
       "    <tr>\n",
       "      <th>1</th>\n",
       "      <td>37.0</td>\n",
       "      <td>13.146667</td>\n",
       "      <td>23.853333</td>\n",
       "      <td>26.0</td>\n",
       "      <td>6.146667</td>\n",
       "      <td>19.853333</td>\n",
       "      <td>2.00</td>\n",
       "      <td>1.350667</td>\n",
       "      <td>0.649333</td>\n",
       "    </tr>\n",
       "    <tr>\n",
       "      <th>2</th>\n",
       "      <td>37.0</td>\n",
       "      <td>13.146667</td>\n",
       "      <td>23.853333</td>\n",
       "      <td>26.0</td>\n",
       "      <td>6.146667</td>\n",
       "      <td>19.853333</td>\n",
       "      <td>2.00</td>\n",
       "      <td>1.350667</td>\n",
       "      <td>0.649333</td>\n",
       "    </tr>\n",
       "    <tr>\n",
       "      <th>3</th>\n",
       "      <td>22.0</td>\n",
       "      <td>11.906667</td>\n",
       "      <td>10.093333</td>\n",
       "      <td>3.0</td>\n",
       "      <td>2.493333</td>\n",
       "      <td>0.506667</td>\n",
       "      <td>0.67</td>\n",
       "      <td>0.236000</td>\n",
       "      <td>0.434000</td>\n",
       "    </tr>\n",
       "    <tr>\n",
       "      <th>4</th>\n",
       "      <td>22.0</td>\n",
       "      <td>11.906667</td>\n",
       "      <td>10.093333</td>\n",
       "      <td>3.0</td>\n",
       "      <td>2.493333</td>\n",
       "      <td>0.506667</td>\n",
       "      <td>0.67</td>\n",
       "      <td>0.236000</td>\n",
       "      <td>0.434000</td>\n",
       "    </tr>\n",
       "  </tbody>\n",
       "</table>\n",
       "</div>"
      ],
      "text/plain": [
       "   Final Answer Stage 1  Target Stage 1  Final Distance Target Stage 1  \\\n",
       "0                  37.0       13.146667                      23.853333   \n",
       "1                  37.0       13.146667                      23.853333   \n",
       "2                  37.0       13.146667                      23.853333   \n",
       "3                  22.0       11.906667                      10.093333   \n",
       "4                  22.0       11.906667                      10.093333   \n",
       "\n",
       "   Final Answer Stage 2  Target Stage 2  Final Distance Target Stage 2  \\\n",
       "0                  26.0        6.146667                      19.853333   \n",
       "1                  26.0        6.146667                      19.853333   \n",
       "2                  26.0        6.146667                      19.853333   \n",
       "3                   3.0        2.493333                       0.506667   \n",
       "4                   3.0        2.493333                       0.506667   \n",
       "\n",
       "   Final Answer Stage 3  Target Stage 3  Final Distance Target Stage 3  \n",
       "0                  2.00        1.350667                       0.649333  \n",
       "1                  2.00        1.350667                       0.649333  \n",
       "2                  2.00        1.350667                       0.649333  \n",
       "3                  0.67        0.236000                       0.434000  \n",
       "4                  0.67        0.236000                       0.434000  "
      ]
     },
     "execution_count": 91,
     "metadata": {},
     "output_type": "execute_result"
    }
   ],
   "source": [
    "rounds = 3\n",
    "for i in range(1, rounds+1):\n",
    "    df[f\"Final Distance Target Stage {i}\"] = abs(df[f\"Final Answer Stage {i}\"] - df[f\"Target Stage {i}\"])\n",
    "\n",
    "\n",
    "cols = []\n",
    "rounds = 3\n",
    "for i in range(1, rounds+1):\n",
    "    cols.append(f\"Final Answer Stage {i}\")\n",
    "    cols.append(f\"Target Stage {i}\")\n",
    "    cols.append(f\"Final Distance Target Stage {i}\")\n",
    "    \n",
    "df[cols].head()"
   ]
  },
  {
   "cell_type": "markdown",
   "metadata": {},
   "source": [
    "### Final Distance to Target by Treatment"
   ]
  },
  {
   "cell_type": "code",
   "execution_count": 92,
   "metadata": {},
   "outputs": [],
   "source": [
    "means_groups = []\n",
    "means_individuals = []\n",
    "labels = []\n",
    "\n",
    "for i in range(1, 4):\n",
    "    label = f\"Round {i}\"\n",
    "    labels.append(label)\n",
    "    means = df.groupby(\"Treatment\")[f\"Final Distance Target Stage {i}\"].mean()\n",
    "    means_groups.append(means[\"G\"])\n",
    "    means_individuals.append(means[\"I\"])\n",
    "\n",
    "\n",
    "merged_means = []\n",
    "for i in range(len(labels)):\n",
    "    data = [labels[i], means_individuals[i], means_groups[i]]\n",
    "    merged_means.append(data)\n",
    "\n",
    "distance_df = pd.DataFrame(merged_means, columns=[\"Round\", \"Individuals\", \"Groups\"])\n",
    "distance_df = distance_df.melt(value_vars=[\"Individuals\", \"Groups\"], id_vars=[\"Round\"])"
   ]
  },
  {
   "cell_type": "code",
   "execution_count": 93,
   "metadata": {
    "jupyter": {
     "source_hidden": true
    }
   },
   "outputs": [
    {
     "data": {
      "image/png": "[encoded data removed]",
      "text/plain": [
       "<Figure size 1080x576 with 1 Axes>"
      ]
     },
     "metadata": {
      "needs_background": "dark"
     },
     "output_type": "display_data"
    }
   ],
   "source": [
    "fig, ax = plt.subplots(1, 1, figsize=(15, 8))\n",
    "\n",
    "sns.pointplot(x=\"Round\", y='value', hue='variable', data=distance_df, ax=ax, palette=[colors[1], colors[0]])\n",
    "\n",
    "plt.legend([\"Groups\", \"Individuals\"])\n",
    "\n",
    "ax.set_title(\"Evolution of Mean Distance to Target\", fontsize=26)\n",
    "ax.set_xlabel(\"\", fontsize=20)\n",
    "ax.set_ylabel(\"Average Distance to Target\", fontsize=20)\n",
    "\n",
    "ax.spines['bottom'].set_color('white')\n",
    "ax.spines['top'].set_color('white') \n",
    "ax.spines['right'].set_color('white')\n",
    "ax.spines['left'].set_color('white')\n",
    "ax.tick_params(axis='x', colors='white')\n",
    "ax.tick_params(axis='y', colors='white')\n",
    "ax.yaxis.label.set_color('white')\n",
    "ax.xaxis.label.set_color('white')\n",
    "ax.title.set_color('white')\n",
    "ax.tick_params(axis='both', which='major', labelsize=15)\n",
    "\n",
    "h, l = ax.get_legend_handles_labels()\n",
    "ax.legend(h, [\"Individuals\", \"Groups\"], title=\"Treatments\")\n",
    "\n",
    "plt.savefig('mean_distacne_target_progression.png', transparent=\"True\", pad_inches=0.2, bbox_inches='tight')\n",
    "\n",
    "plt.show()\n",
    "\n"
   ]
  }
 ],
 "metadata": {
  "kernelspec": {
   "display_name": "Python 3",
   "language": "python",
   "name": "python3"
  },
  "language_info": {
   "codemirror_mode": {
    "name": "ipython",
    "version": 3
   },
   "file_extension": ".py",
   "mimetype": "text/x-python",
   "name": "python",
   "nbconvert_exporter": "python",
   "pygments_lexer": "ipython3",
   "version": "3.7.3"
  }
 },
 "nbformat": 4,
 "nbformat_minor": 4
}
